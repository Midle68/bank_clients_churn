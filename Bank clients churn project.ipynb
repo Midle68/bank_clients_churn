{
 "cells": [
  {
   "cell_type": "markdown",
   "metadata": {},
   "source": [
    "<a name='introduction'></a>\n",
    "# Проект \"Отток клиентов\"\n",
    "\n",
    "Из «Бета-Банка» стали уходить клиенты. Каждый месяц. Немного, но заметно. Банковские маркетологи посчитали: сохранять текущих клиентов дешевле, чем привлекать новых.\n",
    "\n",
    "Нужно спрогнозировать, уйдёт клиент из банка в ближайшее время или нет. Предоставлены исторические данные о поведении клиентов и расторжении договоров с банком. \n",
    "\n",
    "Необходимо построить модель с предельно большим значением *F1*-меры: > 0.59.\n",
    "\n",
    "Дополнительно измеряется *AUC-ROC* и сравнивается с значением *F1*-меры.\n",
    "\n",
    "Источник данных: [https://www.kaggle.com/barelydedicated/bank-customer-churn-modeling](https://www.kaggle.com/barelydedicated/bank-customer-churn-modeling)"
   ]
  },
  {
   "cell_type": "markdown",
   "metadata": {},
   "source": [
    "**Введение**:\n",
    "\n",
    "Предоставлена база данных с клиентами банка и различными данными о них. Целью данного проекта является выявление наиболее подходящей модели машинного обучения, которая бы наилучшим образом предсказала, уйдет клиент из банка в ближайшее время или же останется.\n",
    "\n",
    "**План проекта**: \n",
    " 1. [Подготовка данных](#data_preparation)\n",
    " 2. [Исследование задачи](#task_research) (рассмотрение моделей без учета дисбаланса классов)\n",
    " 3. [Борьба с дисбалансом](#fighting_imbalance) (применение методов с целью устранения дисбаланса класса и рассмотрение показателя f1_score)\n",
    " 4. [Тестирование моделей](#model_testing) (на тестовой уже выборке)"
   ]
  },
  {
   "cell_type": "markdown",
   "metadata": {},
   "source": [
    "<a name=\"data_preparation\"></a>\n",
    "## 1. Подготовка данных"
   ]
  },
  {
   "cell_type": "markdown",
   "metadata": {},
   "source": [
    "Первоначально рассмотрим пропущенные значения, если таковые имеются, а далее перейдем к реорганизации таблицы для того, чтобы ее можно было бы максимально эффективно использовать при построении различных моделей машинного обучения."
   ]
  },
  {
   "cell_type": "code",
   "execution_count": 1,
   "metadata": {},
   "outputs": [],
   "source": [
    "import matplotlib.pyplot as plt\n",
    "import numpy as np\n",
    "import pandas as pd\n",
    "\n",
    "from sklearn.ensemble import RandomForestClassifier\n",
    "from sklearn.linear_model import LogisticRegression, LinearRegression\n",
    "from sklearn.metrics import f1_score, plot_roc_curve, roc_auc_score\n",
    "from sklearn.model_selection import train_test_split, GridSearchCV\n",
    "from sklearn.preprocessing import OrdinalEncoder, StandardScaler\n",
    "from sklearn.tree import DecisionTreeClassifier\n",
    "from sklearn.utils import shuffle\n",
    "\n",
    "clients_df = pd.read_csv(\"Churn.csv\")"
   ]
  },
  {
   "cell_type": "code",
   "execution_count": 2,
   "metadata": {},
   "outputs": [
    {
     "data": {
      "text/plain": [
       "RowNumber            0\n",
       "CustomerId           0\n",
       "Surname              0\n",
       "CreditScore          0\n",
       "Geography            0\n",
       "Gender               0\n",
       "Age                  0\n",
       "Tenure             909\n",
       "Balance              0\n",
       "NumOfProducts        0\n",
       "HasCrCard            0\n",
       "IsActiveMember       0\n",
       "EstimatedSalary      0\n",
       "Exited               0\n",
       "dtype: int64"
      ]
     },
     "execution_count": 2,
     "metadata": {},
     "output_type": "execute_result"
    }
   ],
   "source": [
    "clients_df.isna().sum()"
   ]
  },
  {
   "cell_type": "markdown",
   "metadata": {},
   "source": [
    "NaN-значения в категории \"Tenure\" говорят скорее о том, что человек является клиентом банка относительно непродолжительное время и не прошло даже и года. Ввиду этого, заполним пропущенные значения на \"0.0\"."
   ]
  },
  {
   "cell_type": "code",
   "execution_count": 3,
   "metadata": {},
   "outputs": [],
   "source": [
    "clients_df.loc[clients_df['Tenure'].isna(), 'Tenure'] = 0.0"
   ]
  },
  {
   "cell_type": "code",
   "execution_count": 4,
   "metadata": {
    "scrolled": false
   },
   "outputs": [
    {
     "name": "stdout",
     "output_type": "stream",
     "text": [
      "<class 'pandas.core.frame.DataFrame'>\n",
      "RangeIndex: 10000 entries, 0 to 9999\n",
      "Data columns (total 14 columns):\n",
      " #   Column           Non-Null Count  Dtype  \n",
      "---  ------           --------------  -----  \n",
      " 0   RowNumber        10000 non-null  int64  \n",
      " 1   CustomerId       10000 non-null  int64  \n",
      " 2   Surname          10000 non-null  object \n",
      " 3   CreditScore      10000 non-null  int64  \n",
      " 4   Geography        10000 non-null  object \n",
      " 5   Gender           10000 non-null  object \n",
      " 6   Age              10000 non-null  int64  \n",
      " 7   Tenure           10000 non-null  float64\n",
      " 8   Balance          10000 non-null  float64\n",
      " 9   NumOfProducts    10000 non-null  int64  \n",
      " 10  HasCrCard        10000 non-null  int64  \n",
      " 11  IsActiveMember   10000 non-null  int64  \n",
      " 12  EstimatedSalary  10000 non-null  float64\n",
      " 13  Exited           10000 non-null  int64  \n",
      "dtypes: float64(3), int64(8), object(3)\n",
      "memory usage: 1.1+ MB\n"
     ]
    }
   ],
   "source": [
    "clients_df.info()"
   ]
  },
  {
   "cell_type": "markdown",
   "metadata": {},
   "source": [
    "Разобравшись с пропущенными значениями, перейдем к реорганизации категорий таблицы клиентов.\n",
    "\n",
    "Важно отметить, что некоторые столбцы не могут играть никакой роли для алгоритмов машинного обучения, поскольку отсутствует какая-либо связь между значением столбца и другими данными. К таким можно отнести следующие столбцы: 'RowNumber' (индекс строки в данных), 'CustomerId' (уникальный идентификатор клиента) и 'Surname' (фамилия). Ввиду этого, удалим данные столбцы из базы данных ввиду отсутствия необходимости в их использовании для обучения модели машинного обучения."
   ]
  },
  {
   "cell_type": "code",
   "execution_count": 5,
   "metadata": {},
   "outputs": [],
   "source": [
    "clients_df = clients_df.drop(['RowNumber', 'CustomerId', 'Surname'], axis=1)"
   ]
  },
  {
   "cell_type": "markdown",
   "metadata": {},
   "source": [
    "Для дальнейшего обучения будем использовать OHE (One-Hot Encoding) во всех моделях (поскольку OHE можно применять при обучении всех моделей)"
   ]
  },
  {
   "cell_type": "code",
   "execution_count": 6,
   "metadata": {},
   "outputs": [
    {
     "data": {
      "text/html": [
       "<div>\n",
       "<style scoped>\n",
       "    .dataframe tbody tr th:only-of-type {\n",
       "        vertical-align: middle;\n",
       "    }\n",
       "\n",
       "    .dataframe tbody tr th {\n",
       "        vertical-align: top;\n",
       "    }\n",
       "\n",
       "    .dataframe thead th {\n",
       "        text-align: right;\n",
       "    }\n",
       "</style>\n",
       "<table border=\"1\" class=\"dataframe\">\n",
       "  <thead>\n",
       "    <tr style=\"text-align: right;\">\n",
       "      <th></th>\n",
       "      <th>CreditScore</th>\n",
       "      <th>Age</th>\n",
       "      <th>Tenure</th>\n",
       "      <th>Balance</th>\n",
       "      <th>NumOfProducts</th>\n",
       "      <th>HasCrCard</th>\n",
       "      <th>IsActiveMember</th>\n",
       "      <th>EstimatedSalary</th>\n",
       "      <th>Exited</th>\n",
       "      <th>Geography_Germany</th>\n",
       "      <th>Geography_Spain</th>\n",
       "      <th>Gender_Male</th>\n",
       "    </tr>\n",
       "  </thead>\n",
       "  <tbody>\n",
       "    <tr>\n",
       "      <th>0</th>\n",
       "      <td>619</td>\n",
       "      <td>42</td>\n",
       "      <td>2.0</td>\n",
       "      <td>0.00</td>\n",
       "      <td>1</td>\n",
       "      <td>1</td>\n",
       "      <td>1</td>\n",
       "      <td>101348.88</td>\n",
       "      <td>1</td>\n",
       "      <td>0</td>\n",
       "      <td>0</td>\n",
       "      <td>0</td>\n",
       "    </tr>\n",
       "    <tr>\n",
       "      <th>1</th>\n",
       "      <td>608</td>\n",
       "      <td>41</td>\n",
       "      <td>1.0</td>\n",
       "      <td>83807.86</td>\n",
       "      <td>1</td>\n",
       "      <td>0</td>\n",
       "      <td>1</td>\n",
       "      <td>112542.58</td>\n",
       "      <td>0</td>\n",
       "      <td>0</td>\n",
       "      <td>1</td>\n",
       "      <td>0</td>\n",
       "    </tr>\n",
       "    <tr>\n",
       "      <th>2</th>\n",
       "      <td>502</td>\n",
       "      <td>42</td>\n",
       "      <td>8.0</td>\n",
       "      <td>159660.80</td>\n",
       "      <td>3</td>\n",
       "      <td>1</td>\n",
       "      <td>0</td>\n",
       "      <td>113931.57</td>\n",
       "      <td>1</td>\n",
       "      <td>0</td>\n",
       "      <td>0</td>\n",
       "      <td>0</td>\n",
       "    </tr>\n",
       "    <tr>\n",
       "      <th>3</th>\n",
       "      <td>699</td>\n",
       "      <td>39</td>\n",
       "      <td>1.0</td>\n",
       "      <td>0.00</td>\n",
       "      <td>2</td>\n",
       "      <td>0</td>\n",
       "      <td>0</td>\n",
       "      <td>93826.63</td>\n",
       "      <td>0</td>\n",
       "      <td>0</td>\n",
       "      <td>0</td>\n",
       "      <td>0</td>\n",
       "    </tr>\n",
       "    <tr>\n",
       "      <th>4</th>\n",
       "      <td>850</td>\n",
       "      <td>43</td>\n",
       "      <td>2.0</td>\n",
       "      <td>125510.82</td>\n",
       "      <td>1</td>\n",
       "      <td>1</td>\n",
       "      <td>1</td>\n",
       "      <td>79084.10</td>\n",
       "      <td>0</td>\n",
       "      <td>0</td>\n",
       "      <td>1</td>\n",
       "      <td>0</td>\n",
       "    </tr>\n",
       "  </tbody>\n",
       "</table>\n",
       "</div>"
      ],
      "text/plain": [
       "   CreditScore  Age  Tenure    Balance  NumOfProducts  HasCrCard  \\\n",
       "0          619   42     2.0       0.00              1          1   \n",
       "1          608   41     1.0   83807.86              1          0   \n",
       "2          502   42     8.0  159660.80              3          1   \n",
       "3          699   39     1.0       0.00              2          0   \n",
       "4          850   43     2.0  125510.82              1          1   \n",
       "\n",
       "   IsActiveMember  EstimatedSalary  Exited  Geography_Germany  \\\n",
       "0               1        101348.88       1                  0   \n",
       "1               1        112542.58       0                  0   \n",
       "2               0        113931.57       1                  0   \n",
       "3               0         93826.63       0                  0   \n",
       "4               1         79084.10       0                  0   \n",
       "\n",
       "   Geography_Spain  Gender_Male  \n",
       "0                0            0  \n",
       "1                1            0  \n",
       "2                0            0  \n",
       "3                0            0  \n",
       "4                1            0  "
      ]
     },
     "execution_count": 6,
     "metadata": {},
     "output_type": "execute_result"
    }
   ],
   "source": [
    "clients_df = pd.get_dummies(clients_df, drop_first=True)\n",
    "\n",
    "clients_df.head()"
   ]
  },
  {
   "cell_type": "markdown",
   "metadata": {},
   "source": [
    "<a name=\"task_research\"></a>\n",
    "## 2. Исследование задачи\n",
    "[Вернуться во Введение](#introduction)"
   ]
  },
  {
   "cell_type": "markdown",
   "metadata": {},
   "source": [
    "Изучим баланс классов, посмотрим на поведение моделей и результаты их работы без учета без дисбаланса"
   ]
  },
  {
   "cell_type": "code",
   "execution_count": 7,
   "metadata": {},
   "outputs": [],
   "source": [
    "X = clients_df.drop(['Exited'], axis=1)\n",
    "y = clients_df['Exited']"
   ]
  },
  {
   "cell_type": "code",
   "execution_count": 8,
   "metadata": {
    "scrolled": true
   },
   "outputs": [],
   "source": [
    "# Разделение на тренировочные, валидационные и тестовые выборки\n",
    "X_train, X_valid, y_train, y_valid = train_test_split(\n",
    "    X,\n",
    "    y,\n",
    "    test_size=0.25,\n",
    "    random_state=12345,\n",
    "    stratify=y\n",
    ")\n",
    "\n",
    "X_valid, X_test, y_valid, y_test = train_test_split(\n",
    "    X_valid,\n",
    "    y_valid,\n",
    "    random_state=12345,\n",
    "    test_size=0.5,\n",
    "    stratify=y_valid\n",
    ")"
   ]
  },
  {
   "cell_type": "code",
   "execution_count": 9,
   "metadata": {},
   "outputs": [
    {
     "name": "stdout",
     "output_type": "stream",
     "text": [
      "87593\n",
      "22407\n"
     ]
    }
   ],
   "source": [
    "# Количество объектов по классам\n",
    "print(X[y == 0].count().sum())\n",
    "print(X[y == 1].count().sum())"
   ]
  },
  {
   "cell_type": "code",
   "execution_count": 10,
   "metadata": {},
   "outputs": [],
   "source": [
    "# Осуществим масштабирование признаков\n",
    "numeric = ['CreditScore', 'Age', 'Tenure', 'Balance', 'NumOfProducts', 'EstimatedSalary']\n",
    "\n",
    "pd.options.mode.chained_assignment = None\n",
    "\n",
    "scaler = StandardScaler()\n",
    "scaler.fit(X_train[numeric])\n",
    "\n",
    "X_train[numeric] = scaler.transform(X_train[numeric])\n",
    "X_valid[numeric] = scaler.transform(X_valid[numeric])\n",
    "X_test[numeric] = scaler.transform(X_test[numeric])"
   ]
  },
  {
   "cell_type": "markdown",
   "metadata": {},
   "source": [
    "Далее найдем оптимальные параметры для каждой из модели."
   ]
  },
  {
   "cell_type": "markdown",
   "metadata": {},
   "source": [
    "**DecisionTreeClassifier**"
   ]
  },
  {
   "cell_type": "code",
   "execution_count": 11,
   "metadata": {},
   "outputs": [
    {
     "name": "stdout",
     "output_type": "stream",
     "text": [
      "DecisionTreeClassifier(max_depth=6, random_state=12345)\n"
     ]
    }
   ],
   "source": [
    "model_1 = DecisionTreeClassifier(random_state=12345)\n",
    "\n",
    "params = {'max_depth': range(2, 21, 2)}\n",
    "\n",
    "grid_1 = GridSearchCV(model_1, params)\n",
    "grid_1.fit(X_train, y_train)\n",
    "\n",
    "print(grid_1.best_estimator_)"
   ]
  },
  {
   "cell_type": "code",
   "execution_count": 12,
   "metadata": {},
   "outputs": [
    {
     "name": "stdout",
     "output_type": "stream",
     "text": [
      "f1_score: 0.608272506082725\n"
     ]
    }
   ],
   "source": [
    "model_1 = DecisionTreeClassifier(random_state=12345, max_depth=6)\n",
    "model_1.fit(X_train, y_train)\n",
    "\n",
    "predicted_valid = model_1.predict(X_valid)\n",
    "print(\"f1_score:\", f1_score(y_valid, predicted_valid))"
   ]
  },
  {
   "cell_type": "markdown",
   "metadata": {},
   "source": [
    "**RandomForestClassifier**"
   ]
  },
  {
   "cell_type": "code",
   "execution_count": 15,
   "metadata": {},
   "outputs": [
    {
     "name": "stdout",
     "output_type": "stream",
     "text": [
      "RandomForestClassifier(max_depth=10, n_estimators=200, random_state=12345)\n"
     ]
    }
   ],
   "source": [
    "model_2 = RandomForestClassifier(random_state=12345)\n",
    "\n",
    "params = {'max_depth': range(2, 16, 2), 'n_estimators': range(50, 250, 50)}\n",
    "\n",
    "grid_2 = GridSearchCV(model_2, params)\n",
    "grid_2.fit(X_train, y_train)\n",
    "\n",
    "print(grid_2.best_estimator_)"
   ]
  },
  {
   "cell_type": "code",
   "execution_count": 16,
   "metadata": {},
   "outputs": [
    {
     "name": "stdout",
     "output_type": "stream",
     "text": [
      "f1_score: 0.585\n"
     ]
    }
   ],
   "source": [
    "model_2 = RandomForestClassifier(random_state=12345, max_depth=10, n_estimators=200)\n",
    "model_2.fit(X_train, y_train)\n",
    "predicted_valid = model_2.predict(X_valid)\n",
    "print(\"f1_score:\", f1_score(y_valid, predicted_valid))"
   ]
  },
  {
   "cell_type": "markdown",
   "metadata": {},
   "source": [
    "**LogisticRegression**"
   ]
  },
  {
   "cell_type": "code",
   "execution_count": 17,
   "metadata": {},
   "outputs": [
    {
     "name": "stdout",
     "output_type": "stream",
     "text": [
      "LogisticRegression(random_state=12345)\n"
     ]
    }
   ],
   "source": [
    "model_3 = LogisticRegression(random_state=12345)\n",
    "\n",
    "params = {'max_iter': range(100, 1001, 100)}\n",
    "\n",
    "grid_3 = GridSearchCV(model_3, params)\n",
    "grid_3.fit(X_train, y_train)\n",
    "\n",
    "print(grid_3.best_estimator_)"
   ]
  },
  {
   "cell_type": "code",
   "execution_count": 18,
   "metadata": {},
   "outputs": [
    {
     "name": "stdout",
     "output_type": "stream",
     "text": [
      "f1_score: 0.29341317365269465\n"
     ]
    }
   ],
   "source": [
    "model_3 = LogisticRegression(random_state=12345)\n",
    "model_3.fit(X_train, y_train)\n",
    "\n",
    "predicted_valid = model_3.predict(X_valid)\n",
    "print(\"f1_score:\", f1_score(y_valid, predicted_valid))"
   ]
  },
  {
   "cell_type": "markdown",
   "metadata": {},
   "source": [
    "**Промежуточный вывод**:\n",
    "\n",
    "Наивысший значение по показателю f1_score на валидационной выборке демонстрирует DecisionTreeClassifier с максимальной глубиной дерева равной 6. Результат f1_score модели составляет 0.608. Наименьшее значение при LogisticRegression - 0.088, поскольку не учитывается дисбаланс классов. "
   ]
  },
  {
   "cell_type": "markdown",
   "metadata": {},
   "source": [
    "<a name=\"fighting_imbalance\"></a>\n",
    "## 3. Борьба с дисбалансом\n",
    "[Вернуться во Введение](#introduction)"
   ]
  },
  {
   "cell_type": "markdown",
   "metadata": {},
   "source": [
    "Посмотрим на значение f1_score при учите дисбаланса классов в каждой из рассматриваемой модели."
   ]
  },
  {
   "cell_type": "code",
   "execution_count": 19,
   "metadata": {},
   "outputs": [
    {
     "data": {
      "image/png": "[encoded data removed]",
      "text/plain": [
       "<Figure size 504x432 with 1 Axes>"
      ]
     },
     "metadata": {
      "needs_background": "light"
     },
     "output_type": "display_data"
    }
   ],
   "source": [
    "y.plot(\n",
    "    x=y,\n",
    "    kind='hist',\n",
    "    color='green',\n",
    "    grid=True,\n",
    "    title='Соотношение классов',\n",
    "    figsize=[7, 6]\n",
    ")\n",
    "\n",
    "plt.xlabel('Класс')\n",
    "plt.ylabel('Частота')\n",
    "plt.xticks([0, 1])\n",
    "plt.show()"
   ]
  },
  {
   "cell_type": "markdown",
   "metadata": {},
   "source": [
    "Вероятно, для некоторых моделей понадобится использование большего количество объектов класса \"1\", чтобы они лучше обучились. Ввиду этого, посмотрим нам изменение метрики f1_score при использовании методов как upsampling, так downsampling."
   ]
  },
  {
   "cell_type": "markdown",
   "metadata": {},
   "source": [
    "**DecisionTreeClassifier**"
   ]
  },
  {
   "cell_type": "code",
   "execution_count": 37,
   "metadata": {},
   "outputs": [
    {
     "name": "stdout",
     "output_type": "stream",
     "text": [
      "f1_score: 0.579172610556348\n"
     ]
    }
   ],
   "source": [
    "model_1 = DecisionTreeClassifier(random_state=12345, max_depth=6, class_weight='balanced')\n",
    "model_1.fit(X_train, y_train)\n",
    "\n",
    "predicted_valid = model_1.predict(X_valid)\n",
    "print(\"f1_score:\", f1_score(y_valid, predicted_valid))"
   ]
  },
  {
   "cell_type": "markdown",
   "metadata": {},
   "source": [
    "Посмотрим на влиения **upsampling** и **downsampling** на значение метрики f1_score."
   ]
  },
  {
   "cell_type": "code",
   "execution_count": 38,
   "metadata": {},
   "outputs": [],
   "source": [
    "def upsample(X, y, repeat):\n",
    "    X_zeros = X[y == 0]\n",
    "    X_ones = X[y == 1]\n",
    "    y_zeros = y[y == 0]\n",
    "    y_ones = y[y == 1]\n",
    "    \n",
    "    X_upsampled = pd.concat([X_zeros] + [X_ones] * repeat)\n",
    "    y_upsampled = pd.concat([y_zeros] + [y_ones] * repeat)\n",
    "    \n",
    "    X_upsampled, y_upsampled = shuffle(X_upsampled, y_upsampled, random_state=12345)\n",
    "    \n",
    "    return X_upsampled, y_upsampled\n",
    "\n",
    "def downsample(X, y, fraction):\n",
    "    X_zeros = X[y == 0]\n",
    "    X_ones = X[y == 1]\n",
    "    y_zeros = y[y == 0]\n",
    "    y_ones = y[y == 1]\n",
    "    \n",
    "    X_upsampled = pd.concat([X_zeros.sample(frac=fraction)] + [X_ones])\n",
    "    y_upsampled = pd.concat([y_zeros.sample(frac=fraction)] + [y_ones])\n",
    "    \n",
    "    X_upsampled, y_upsampled = shuffle(X_upsampled, y_upsampled, random_state=12345)\n",
    "    \n",
    "    return X_upsampled, y_upsampled"
   ]
  },
  {
   "cell_type": "code",
   "execution_count": 39,
   "metadata": {},
   "outputs": [
    {
     "name": "stdout",
     "output_type": "stream",
     "text": [
      "best_f1_score: 0.608272506082725, best_repeat: 1\n"
     ]
    }
   ],
   "source": [
    "# Осуществим увеличение выборки\n",
    "best_f1_score = 0\n",
    "best_rep_dt = 0\n",
    "\n",
    "for rep in range(1, 10, 1):\n",
    "    X_u, y_u = upsample(X_train, y_train, rep)\n",
    "\n",
    "    model_1 = DecisionTreeClassifier(random_state=12345, max_depth=6)\n",
    "    model_1.fit(X_u, y_u)\n",
    "\n",
    "    predicted_valid = model_1.predict(X_valid)\n",
    "    score = f1_score(y_valid, predicted_valid)\n",
    "    if score > best_f1_score:\n",
    "        best_f1_score = score\n",
    "        best_rep_dt = rep\n",
    "\n",
    "print(f\"best_f1_score: {best_f1_score}, best_repeat: {best_rep_dt}\")"
   ]
  },
  {
   "cell_type": "code",
   "execution_count": 40,
   "metadata": {},
   "outputs": [
    {
     "name": "stdout",
     "output_type": "stream",
     "text": [
      "best_f1_score: 0.6190476190476191, best_frac: 0.55\n"
     ]
    }
   ],
   "source": [
    "# Осуществим уменьшение выборки\n",
    "best_f1_score = 0\n",
    "best_frac_dt = 0\n",
    "\n",
    "for fraction in range(2, 21):\n",
    "    X_u, y_u = downsample(X_train, y_train, fraction * 0.05)\n",
    "\n",
    "    model_1 = DecisionTreeClassifier(random_state=12345, max_depth=6)\n",
    "    model_1.fit(X_u, y_u)\n",
    "\n",
    "    predicted_valid = model_1.predict(X_valid)\n",
    "    score = f1_score(y_valid, predicted_valid)\n",
    "    if score > best_f1_score:\n",
    "        best_f1_score = score\n",
    "        best_frac_dt = fraction * 0.05\n",
    "\n",
    "print(f\"best_f1_score: {best_f1_score}, best_frac: {best_frac_dt}\")\n"
   ]
  },
  {
   "cell_type": "markdown",
   "metadata": {},
   "source": [
    "С downsampling всегда получается разный результат f1_score, но, на основе эмпирических тестов, значение f1_score почти всегда выше значений при использовании upsampling. Ввиду этого предпочтительней использовать downsampling при обучении модели DesicionTreeClassifier."
   ]
  },
  {
   "cell_type": "markdown",
   "metadata": {},
   "source": [
    "**RandomForestClassifier**"
   ]
  },
  {
   "cell_type": "code",
   "execution_count": 41,
   "metadata": {},
   "outputs": [
    {
     "name": "stdout",
     "output_type": "stream",
     "text": [
      "f1_score: 0.640625\n"
     ]
    }
   ],
   "source": [
    "model_2 = RandomForestClassifier(random_state=12345, max_depth=10, n_estimators=200, class_weight='balanced')\n",
    "model_2.fit(X_train, y_train)\n",
    "\n",
    "predicted_valid = model_2.predict(X_valid)\n",
    "score_f1 = f1_score(y_valid, predicted_valid)\n",
    "\n",
    "print(f\"f1_score: {score_f1}\")"
   ]
  },
  {
   "cell_type": "code",
   "execution_count": 42,
   "metadata": {},
   "outputs": [
    {
     "name": "stdout",
     "output_type": "stream",
     "text": [
      "best_f1_score: 0.6524271844660194, best_repeat: 3\n"
     ]
    }
   ],
   "source": [
    "best_f1_score = 0\n",
    "best_rep_rf = 0\n",
    "\n",
    "for rep in range(1, 10, 1):\n",
    "    X_u, y_u = upsample(X_train, y_train, rep)\n",
    "\n",
    "    model_2 = RandomForestClassifier(random_state=12345, max_depth=10, n_estimators=200)\n",
    "    model_2.fit(X_u, y_u)\n",
    "\n",
    "    predicted_valid = model_2.predict(X_valid)\n",
    "    score = f1_score(y_valid, predicted_valid)\n",
    "    if score > best_f1_score:\n",
    "        best_f1_score = score\n",
    "        best_rep_rf = rep\n",
    "\n",
    "\n",
    "print(f\"best_f1_score: {best_f1_score}, best_repeat: {best_rep_rf}\")"
   ]
  },
  {
   "cell_type": "code",
   "execution_count": 43,
   "metadata": {},
   "outputs": [
    {
     "name": "stdout",
     "output_type": "stream",
     "text": [
      "best_f1_score: 0.6533333333333333, best_frac: 0.30000000000000004\n"
     ]
    }
   ],
   "source": [
    "best_f1_score = 0\n",
    "best_frac_rf = 0\n",
    "\n",
    "for fraction in range(2, 21):\n",
    "    X_u, y_u = downsample(X_train, y_train, fraction * 0.05)\n",
    "\n",
    "    model_2 = RandomForestClassifier(random_state=12345, max_depth=10, n_estimators=200)\n",
    "    model_2.fit(X_u, y_u)\n",
    "\n",
    "    predicted_valid = model_2.predict(X_valid)\n",
    "    score = f1_score(y_valid, predicted_valid)\n",
    "    if score > best_f1_score:\n",
    "        best_f1_score = score\n",
    "        best_frac_rf = fraction * 0.05\n",
    "\n",
    "print(f\"best_f1_score: {best_f1_score}, best_frac: {best_frac_rf}\")"
   ]
  },
  {
   "cell_type": "markdown",
   "metadata": {},
   "source": [
    "В целом показатели метрики f1_score при осуществлении upsampling и downsampling для модели RandomForestClassifier одинаково высоки и выше требуемых 0.59. Важно отметить, что существенную разницу играет и значение 'balanced' атрибута 'class_weight, с помощью которого на валидационной выборке значение f1_score достигло 0.642 (при том, что без балансировка классов данный показатель составлял 0.585). Тем не менее, наивысшие показатели приходятся именно на использование **upsampling** и **downsampling**."
   ]
  },
  {
   "cell_type": "markdown",
   "metadata": {},
   "source": [
    "**Логистическая регрессия**"
   ]
  },
  {
   "cell_type": "code",
   "execution_count": 44,
   "metadata": {},
   "outputs": [
    {
     "name": "stdout",
     "output_type": "stream",
     "text": [
      "0.5205479452054794\n"
     ]
    }
   ],
   "source": [
    "# Рассмотрим значение F1-меры при использовании логистической регрессии\n",
    "model_3 = LogisticRegression(random_state=12345, solver='liblinear', class_weight='balanced')\n",
    "model_3.fit(X_train, y_train)\n",
    "\n",
    "predicted_valid = model_3.predict(X_valid)\n",
    "\n",
    "print(f1_score(y_valid, predicted_valid))"
   ]
  },
  {
   "cell_type": "code",
   "execution_count": 45,
   "metadata": {},
   "outputs": [
    {
     "name": "stdout",
     "output_type": "stream",
     "text": [
      "best_f1_score: 0.5236167341430499, best_rep: 4\n"
     ]
    }
   ],
   "source": [
    "# Осуществим увеличение выборки\n",
    "best_f1_score = 0\n",
    "best_rep_lr = 0\n",
    "\n",
    "for rep in range(1, 10, 1):\n",
    "    X_u, y_u = upsample(X_train, y_train, rep)\n",
    "\n",
    "    model_3 = LogisticRegression(random_state=12345)\n",
    "    model_3.fit(X_u, y_u)\n",
    "\n",
    "    predicted_valid = model_3.predict(X_valid)\n",
    "    score = f1_score(y_valid, predicted_valid)\n",
    "    if score > best_f1_score:\n",
    "        best_f1_score = score\n",
    "        best_rep_lr = rep\n",
    "\n",
    "print(f\"best_f1_score: {best_f1_score}, best_rep: {best_rep_lr}\")"
   ]
  },
  {
   "cell_type": "code",
   "execution_count": 46,
   "metadata": {},
   "outputs": [
    {
     "name": "stdout",
     "output_type": "stream",
     "text": [
      "best_f1_score: 0.5380875202593193, best_frac: 0.35000000000000003\n"
     ]
    }
   ],
   "source": [
    "# Осуществим уменьшение выборки\n",
    "best_f1_score = 0\n",
    "best_frac_lr = 0\n",
    "\n",
    "for fraction in range(2, 21):\n",
    "    X_u, y_u = downsample(X_train, y_train, fraction * 0.05)\n",
    "\n",
    "    model_3 = LogisticRegression(random_state=12345)\n",
    "    model_3.fit(X_u, y_u)\n",
    "\n",
    "    predicted_valid = model_3.predict(X_valid)\n",
    "    score = f1_score(y_valid, predicted_valid)\n",
    "    if score > best_f1_score:\n",
    "        best_f1_score = score\n",
    "        best_frac_lr = fraction * 0.05\n",
    "\n",
    "print(f\"best_f1_score: {best_f1_score}, best_frac: {best_frac_lr}\")"
   ]
  },
  {
   "cell_type": "markdown",
   "metadata": {},
   "source": [
    "Значения метрики f1_score при использовании модели LogisticRegression крайне низки (<= 0.5). И не подходят под условие задачи (f1_score => 0.59). Более того наибольшее значение метрики f1_score получается при использовании значения 'balanced' атрибута 'class_weight', а не upsampling и downsampling, как было в моделях DecisionTreeClassifier и RandomForestClassifier."
   ]
  },
  {
   "cell_type": "markdown",
   "metadata": {},
   "source": [
    "**Промежуточный вывод**:\n",
    "\n",
    "Наивысшие значения метрики f1_score демонстрируют модели DecisionTreeClassifier и RandomForestClassifier. По крайне мере на валидационной выборке их значения превышают необходимые 0.59. LogisticRegression, даже с учетом дисбаланса классов, показывает не столь высокое значение f1_score - около 0.46, что явно ниже порогового значения в 0.59. Вряд ли значение на тестовой выборке будет выше, однако рассмотрим это далее.\n",
    "\n",
    "Более того, DecisionTreeClassifier наилучшим образом обучается при уменьшении выборки (downsampling). Однако, ввиду того, что значение может варьироваться при повторных итерациях, долю, при которой модель демонстрирует наивысшее значение f1_score метрики сохраним в отдельную переменную и будем использовать в дальнейшем.\n",
    "\n",
    "При RandomForestClassifier применение upsampling или downsampling действительно незначительно, но повышение значение f1_score, однако разница между двумя методами борьбы с дисбалансом минимальна. При тестировании модели будем использовать upsampling, как первый из вариантов."
   ]
  },
  {
   "cell_type": "markdown",
   "metadata": {},
   "source": [
    "<a name=\"model_testing\"></a>\n",
    "## 4. Тестирование моделей\n",
    "[Вернуться во Введение](#introduction)"
   ]
  },
  {
   "cell_type": "markdown",
   "metadata": {},
   "source": [
    "Осуществим тестирование моделей на тестовых выборках. Помимо f1_score рассмотрим также и метрику AUC_ROC с помощью roc_auc_score из библиотеки sklearn."
   ]
  },
  {
   "cell_type": "markdown",
   "metadata": {},
   "source": [
    "**DecisionTreeClassifier**"
   ]
  },
  {
   "cell_type": "code",
   "execution_count": 51,
   "metadata": {},
   "outputs": [
    {
     "name": "stdout",
     "output_type": "stream",
     "text": [
      "f1_score = 0.5633270321361059, auc_roc = 0.7300540745659805\n"
     ]
    }
   ],
   "source": [
    "# Уменьшение выборки и получение значения f1-меры для DecisionTreeClassifier\n",
    "X_u, y_u = downsample(X_train, y_train, best_frac_dt)\n",
    "\n",
    "model_1 = DecisionTreeClassifier(random_state=12345, max_depth=6)\n",
    "model_1.fit(X_u, y_u)\n",
    "predicted_test = model_1.predict(X_test)\n",
    "\n",
    "score_f1 = f1_score(y_test, predicted_test)\n",
    "score_auc_roc = roc_auc_score(y_test, predicted_test)\n",
    "\n",
    "print(f\"f1_score = {score_f1}, auc_roc = {score_auc_roc}\")"
   ]
  },
  {
   "cell_type": "markdown",
   "metadata": {},
   "source": [
    "**RandomForestClassifier**"
   ]
  },
  {
   "cell_type": "code",
   "execution_count": 52,
   "metadata": {},
   "outputs": [
    {
     "name": "stdout",
     "output_type": "stream",
     "text": [
      "f1_score = 0.626641651031895, auc_roc = 0.7725152578819214\n"
     ]
    }
   ],
   "source": [
    "# Увеличение выборки и получение значения f1-меры для RandomForestClassifier\n",
    "X_u, y_u = upsample(X_train, y_train, best_rep_rf)\n",
    "\n",
    "model_2 = RandomForestClassifier(random_state=12345, max_depth=10, n_estimators=200)\n",
    "model_2.fit(X_u, y_u)\n",
    "predicted_test = model_2.predict(X_test)\n",
    "\n",
    "score_f1 = f1_score(y_test, predicted_test)\n",
    "score_auc_roc = roc_auc_score(y_test, predicted_test)\n",
    "\n",
    "print(f\"f1_score = {score_f1}, auc_roc = {score_auc_roc}\")"
   ]
  },
  {
   "cell_type": "markdown",
   "metadata": {},
   "source": [
    "**LogisticRegression**"
   ]
  },
  {
   "cell_type": "code",
   "execution_count": 49,
   "metadata": {},
   "outputs": [
    {
     "name": "stdout",
     "output_type": "stream",
     "text": [
      "f1_score = 0.4786795048143054, auc_roc = 0.6924192834329445\n"
     ]
    }
   ],
   "source": [
    "# Получения значений F1-меры для LogisticRegression\n",
    "model_3 = LogisticRegression(random_state=12345, class_weight='balanced')\n",
    "model_3.fit(X_train, y_train)\n",
    "predicted_test = model_3.predict(X_test)\n",
    "\n",
    "score_f1 = f1_score(y_test, predicted_test)\n",
    "score_auc_roc = roc_auc_score(y_test, predicted_test)\n",
    "\n",
    "print(f\"f1_score = {score_f1}, auc_roc = {score_auc_roc}\")"
   ]
  },
  {
   "cell_type": "code",
   "execution_count": 50,
   "metadata": {},
   "outputs": [
    {
     "data": {
      "image/png": "[encoded data removed]",
      "text/plain": [
       "<Figure size 432x288 with 1 Axes>"
      ]
     },
     "metadata": {
      "needs_background": "light"
     },
     "output_type": "display_data"
    }
   ],
   "source": [
    "# Визуализация значения ROC-AUC с лучшей моделью - RandomForestClassifier\n",
    "roc_plot = plot_roc_curve(model_2, X_test, y_test)\n",
    "plt.show()"
   ]
  },
  {
   "cell_type": "markdown",
   "metadata": {},
   "source": [
    "**Вывод**\n",
    "\n",
    "Получилось достичь результат f1_score больше 0.59. Единственная модель, которая на тестовой выборке продемонстрировала данный результат - это RandomForestClassifier со следующими параметрами: максимальная глубина дерева - 10, количество деревьев - 200. В дополнение к этому используется метод увеличения выборки (upsampling) для лучшего обучения модели на тренировочной выборке. Используя упомянутые параметры, модель достигла значения метрики f1_score в 0.627, а auc_roc = 0.77 (к слову чем ближе auc_roc к единице, тем лучше модель). \n",
    "\n",
    "**Рекомендации**:\n",
    "Следовательно, для наиболее точного определения, уйдет клиент или останется, рекомендуется использовать случайны лес (RandomForestClassifier). Поскольку и f1_score выше необходимых 0.59, и auc_roc ближе к единице, чем к 0.5 (абсолютно случайной модели)."
   ]
  },
  {
   "cell_type": "code",
   "execution_count": null,
   "metadata": {},
   "outputs": [],
   "source": []
  }
 ],
 "metadata": {
  "ExecuteTimeLog": [
   {
    "duration": 591,
    "start_time": "2022-11-18T19:02:39.591Z"
   },
   {
    "duration": 22,
    "start_time": "2022-11-18T19:02:46.507Z"
   },
   {
    "duration": 9,
    "start_time": "2022-11-18T19:02:55.225Z"
   },
   {
    "duration": 6,
    "start_time": "2022-11-18T19:03:30.325Z"
   },
   {
    "duration": 39,
    "start_time": "2022-11-18T19:05:16.503Z"
   },
   {
    "duration": 14,
    "start_time": "2022-11-18T19:05:24.952Z"
   },
   {
    "duration": 8,
    "start_time": "2022-11-18T19:05:39.480Z"
   },
   {
    "duration": 100,
    "start_time": "2022-11-18T19:05:53.831Z"
   },
   {
    "duration": 24,
    "start_time": "2022-11-18T19:05:56.392Z"
   },
   {
    "duration": 7,
    "start_time": "2022-11-18T19:10:11.198Z"
   },
   {
    "duration": 4,
    "start_time": "2022-11-18T19:10:17.979Z"
   },
   {
    "duration": 12,
    "start_time": "2022-11-18T19:10:28.957Z"
   },
   {
    "duration": 60,
    "start_time": "2022-11-18T19:10:35.628Z"
   },
   {
    "duration": 12,
    "start_time": "2022-11-18T19:10:35.884Z"
   },
   {
    "duration": 4,
    "start_time": "2022-11-18T19:10:38.644Z"
   },
   {
    "duration": 12,
    "start_time": "2022-11-18T19:10:39.859Z"
   },
   {
    "duration": 4,
    "start_time": "2022-11-18T19:10:51.252Z"
   },
   {
    "duration": 11,
    "start_time": "2022-11-18T19:10:51.836Z"
   },
   {
    "duration": 8,
    "start_time": "2022-11-18T19:11:29.733Z"
   },
   {
    "duration": 394,
    "start_time": "2022-11-18T19:11:36.157Z"
   },
   {
    "duration": 13,
    "start_time": "2022-11-18T19:11:36.552Z"
   },
   {
    "duration": 27,
    "start_time": "2022-11-18T19:11:36.566Z"
   },
   {
    "duration": 30,
    "start_time": "2022-11-18T19:11:36.594Z"
   },
   {
    "duration": 4,
    "start_time": "2022-11-18T19:11:36.626Z"
   },
   {
    "duration": 15,
    "start_time": "2022-11-18T19:11:36.631Z"
   },
   {
    "duration": 8,
    "start_time": "2022-11-18T19:11:44.055Z"
   },
   {
    "duration": 25,
    "start_time": "2022-11-18T19:12:01.881Z"
   },
   {
    "duration": 422,
    "start_time": "2022-11-18T19:12:40.619Z"
   },
   {
    "duration": 13,
    "start_time": "2022-11-18T19:12:41.043Z"
   },
   {
    "duration": 10,
    "start_time": "2022-11-18T19:12:41.058Z"
   },
   {
    "duration": 22,
    "start_time": "2022-11-18T19:12:41.070Z"
   },
   {
    "duration": 20,
    "start_time": "2022-11-18T19:12:41.093Z"
   },
   {
    "duration": 6,
    "start_time": "2022-11-18T19:12:41.114Z"
   },
   {
    "duration": 26,
    "start_time": "2022-11-18T19:12:41.121Z"
   },
   {
    "duration": 20,
    "start_time": "2022-11-18T19:12:41.148Z"
   },
   {
    "duration": 62,
    "start_time": "2022-11-18T19:18:28.875Z"
   },
   {
    "duration": 198,
    "start_time": "2022-11-18T19:18:31.613Z"
   },
   {
    "duration": 24,
    "start_time": "2022-11-18T19:18:35.093Z"
   },
   {
    "duration": 2,
    "start_time": "2022-11-18T19:19:17.831Z"
   },
   {
    "duration": 475,
    "start_time": "2022-11-21T18:34:23.772Z"
   },
   {
    "duration": 11,
    "start_time": "2022-11-21T18:34:24.249Z"
   },
   {
    "duration": 10,
    "start_time": "2022-11-21T18:34:24.262Z"
   },
   {
    "duration": 4,
    "start_time": "2022-11-21T18:34:24.273Z"
   },
   {
    "duration": 12,
    "start_time": "2022-11-21T18:34:24.278Z"
   },
   {
    "duration": 58,
    "start_time": "2022-11-21T18:34:24.291Z"
   },
   {
    "duration": 14,
    "start_time": "2022-11-21T18:34:38.881Z"
   },
   {
    "duration": 5,
    "start_time": "2022-11-21T18:34:57.904Z"
   },
   {
    "duration": 7,
    "start_time": "2022-11-21T18:35:02.105Z"
   },
   {
    "duration": 4,
    "start_time": "2022-11-21T18:35:05.431Z"
   },
   {
    "duration": 5,
    "start_time": "2022-11-21T18:35:12.671Z"
   },
   {
    "duration": 4,
    "start_time": "2022-11-21T18:36:26.401Z"
   },
   {
    "duration": 4,
    "start_time": "2022-11-21T18:36:31.225Z"
   },
   {
    "duration": 10,
    "start_time": "2022-11-21T18:36:38.457Z"
   },
   {
    "duration": 14,
    "start_time": "2022-11-21T18:37:01.652Z"
   },
   {
    "duration": 455,
    "start_time": "2022-11-21T18:37:12.747Z"
   },
   {
    "duration": 14,
    "start_time": "2022-11-21T18:37:13.204Z"
   },
   {
    "duration": 16,
    "start_time": "2022-11-21T18:37:13.219Z"
   },
   {
    "duration": 4,
    "start_time": "2022-11-21T18:37:13.237Z"
   },
   {
    "duration": 12,
    "start_time": "2022-11-21T18:37:13.243Z"
   },
   {
    "duration": 4,
    "start_time": "2022-11-21T18:37:13.257Z"
   },
   {
    "duration": 22,
    "start_time": "2022-11-21T18:37:13.262Z"
   },
   {
    "duration": 5,
    "start_time": "2022-11-21T18:37:41.707Z"
   },
   {
    "duration": 4,
    "start_time": "2022-11-21T18:37:56.674Z"
   },
   {
    "duration": 410,
    "start_time": "2022-11-21T18:38:22.538Z"
   },
   {
    "duration": 14,
    "start_time": "2022-11-21T18:38:22.950Z"
   },
   {
    "duration": 11,
    "start_time": "2022-11-21T18:38:22.965Z"
   },
   {
    "duration": 3,
    "start_time": "2022-11-21T18:38:22.978Z"
   },
   {
    "duration": 18,
    "start_time": "2022-11-21T18:38:22.983Z"
   },
   {
    "duration": 4,
    "start_time": "2022-11-21T18:38:23.002Z"
   },
   {
    "duration": 16,
    "start_time": "2022-11-21T18:38:23.007Z"
   },
   {
    "duration": 67,
    "start_time": "2022-11-21T18:41:23.871Z"
   },
   {
    "duration": 7,
    "start_time": "2022-11-21T18:41:53.001Z"
   },
   {
    "duration": 4,
    "start_time": "2022-11-21T18:41:58.431Z"
   },
   {
    "duration": 396,
    "start_time": "2022-11-21T18:42:03.704Z"
   },
   {
    "duration": 11,
    "start_time": "2022-11-21T18:42:04.102Z"
   },
   {
    "duration": 34,
    "start_time": "2022-11-21T18:42:04.115Z"
   },
   {
    "duration": 3,
    "start_time": "2022-11-21T18:42:04.152Z"
   },
   {
    "duration": 12,
    "start_time": "2022-11-21T18:42:04.156Z"
   },
   {
    "duration": 4,
    "start_time": "2022-11-21T18:42:04.169Z"
   },
   {
    "duration": 6,
    "start_time": "2022-11-21T18:42:04.175Z"
   },
   {
    "duration": 13,
    "start_time": "2022-11-21T18:45:22.827Z"
   },
   {
    "duration": 59,
    "start_time": "2022-11-21T18:54:18.982Z"
   },
   {
    "duration": 16,
    "start_time": "2022-11-21T18:54:26.872Z"
   },
   {
    "duration": 8,
    "start_time": "2022-11-21T18:56:05.985Z"
   },
   {
    "duration": 11,
    "start_time": "2022-11-21T18:58:02.771Z"
   },
   {
    "duration": 18,
    "start_time": "2022-11-21T18:58:08.216Z"
   },
   {
    "duration": 11,
    "start_time": "2022-11-21T18:58:45.428Z"
   },
   {
    "duration": 11,
    "start_time": "2022-11-21T18:58:51.322Z"
   },
   {
    "duration": 9,
    "start_time": "2022-11-21T18:58:59.082Z"
   },
   {
    "duration": 21,
    "start_time": "2022-11-21T18:59:05.218Z"
   },
   {
    "duration": 20,
    "start_time": "2022-11-21T18:59:36.802Z"
   },
   {
    "duration": 14,
    "start_time": "2022-11-21T19:00:02.724Z"
   },
   {
    "duration": 19,
    "start_time": "2022-11-21T19:00:07.619Z"
   },
   {
    "duration": 20,
    "start_time": "2022-11-21T19:00:35.074Z"
   },
   {
    "duration": 19,
    "start_time": "2022-11-21T19:00:41.055Z"
   },
   {
    "duration": 18,
    "start_time": "2022-11-21T19:00:46.173Z"
   },
   {
    "duration": 772,
    "start_time": "2022-11-21T19:01:20.509Z"
   },
   {
    "duration": 41,
    "start_time": "2022-11-21T19:02:53.360Z"
   },
   {
    "duration": 16,
    "start_time": "2022-11-21T19:02:59.624Z"
   },
   {
    "duration": 15,
    "start_time": "2022-11-21T19:05:16.442Z"
   },
   {
    "duration": 1085,
    "start_time": "2022-11-21T19:06:39.301Z"
   },
   {
    "duration": 14,
    "start_time": "2022-11-21T19:06:40.388Z"
   },
   {
    "duration": 11,
    "start_time": "2022-11-21T19:06:40.404Z"
   },
   {
    "duration": 4,
    "start_time": "2022-11-21T19:06:40.417Z"
   },
   {
    "duration": 14,
    "start_time": "2022-11-21T19:06:40.423Z"
   },
   {
    "duration": 4,
    "start_time": "2022-11-21T19:06:40.439Z"
   },
   {
    "duration": 48,
    "start_time": "2022-11-21T19:06:40.444Z"
   },
   {
    "duration": 35,
    "start_time": "2022-11-21T19:06:40.494Z"
   },
   {
    "duration": 34,
    "start_time": "2022-11-21T19:08:33.814Z"
   },
   {
    "duration": 1201,
    "start_time": "2022-11-23T15:11:48.494Z"
   },
   {
    "duration": 20,
    "start_time": "2022-11-23T15:11:49.698Z"
   },
   {
    "duration": 18,
    "start_time": "2022-11-23T15:11:49.720Z"
   },
   {
    "duration": 6,
    "start_time": "2022-11-23T15:11:49.741Z"
   },
   {
    "duration": 23,
    "start_time": "2022-11-23T15:11:49.749Z"
   },
   {
    "duration": 6,
    "start_time": "2022-11-23T15:11:49.797Z"
   },
   {
    "duration": 28,
    "start_time": "2022-11-23T15:11:49.805Z"
   },
   {
    "duration": 74,
    "start_time": "2022-11-23T15:11:49.835Z"
   },
   {
    "duration": 135,
    "start_time": "2022-11-23T15:11:49.922Z"
   },
   {
    "duration": 20,
    "start_time": "2022-11-23T15:12:36.852Z"
   },
   {
    "duration": 48,
    "start_time": "2022-11-23T15:12:47.179Z"
   },
   {
    "duration": 8,
    "start_time": "2022-11-23T15:13:31.911Z"
   },
   {
    "duration": 6,
    "start_time": "2022-11-23T15:13:58.461Z"
   },
   {
    "duration": 8,
    "start_time": "2022-11-23T15:14:25.618Z"
   },
   {
    "duration": 5,
    "start_time": "2022-11-23T15:14:35.051Z"
   },
   {
    "duration": 1261,
    "start_time": "2022-11-23T15:15:19.357Z"
   },
   {
    "duration": 1016,
    "start_time": "2022-11-23T15:15:27.126Z"
   },
   {
    "duration": 818,
    "start_time": "2022-11-23T15:15:35.677Z"
   },
   {
    "duration": 948,
    "start_time": "2022-11-23T15:15:46.838Z"
   },
   {
    "duration": 12,
    "start_time": "2022-11-23T15:16:14.739Z"
   },
   {
    "duration": 9,
    "start_time": "2022-11-23T15:16:17.565Z"
   },
   {
    "duration": 59,
    "start_time": "2022-11-23T15:21:18.644Z"
   },
   {
    "duration": 51,
    "start_time": "2022-11-23T15:21:53.972Z"
   },
   {
    "duration": 34,
    "start_time": "2022-11-23T15:22:11.002Z"
   },
   {
    "duration": 51,
    "start_time": "2022-11-23T15:22:21.596Z"
   },
   {
    "duration": 35,
    "start_time": "2022-11-23T15:22:33.461Z"
   },
   {
    "duration": 5,
    "start_time": "2022-11-23T15:24:29.367Z"
   },
   {
    "duration": 11,
    "start_time": "2022-11-23T15:24:30.606Z"
   },
   {
    "duration": 4,
    "start_time": "2022-11-23T15:24:51.948Z"
   },
   {
    "duration": 18,
    "start_time": "2022-11-23T15:25:23.568Z"
   },
   {
    "duration": 20,
    "start_time": "2022-11-23T15:25:27.472Z"
   },
   {
    "duration": 9,
    "start_time": "2022-11-23T15:25:31.178Z"
   },
   {
    "duration": 18,
    "start_time": "2022-11-23T15:25:34.335Z"
   },
   {
    "duration": 19,
    "start_time": "2022-11-23T15:36:13.812Z"
   },
   {
    "duration": 7,
    "start_time": "2022-11-23T15:36:21.484Z"
   },
   {
    "duration": 8,
    "start_time": "2022-11-23T15:36:28.523Z"
   },
   {
    "duration": 4,
    "start_time": "2022-11-23T15:36:31.355Z"
   },
   {
    "duration": 7,
    "start_time": "2022-11-23T15:36:40.173Z"
   },
   {
    "duration": 12,
    "start_time": "2022-11-23T15:37:34.254Z"
   },
   {
    "duration": 18,
    "start_time": "2022-11-23T15:37:51.029Z"
   },
   {
    "duration": 21,
    "start_time": "2022-11-23T15:37:59.437Z"
   },
   {
    "duration": 13,
    "start_time": "2022-11-23T15:38:09.710Z"
   },
   {
    "duration": 9,
    "start_time": "2022-11-23T15:41:49.273Z"
   },
   {
    "duration": 9,
    "start_time": "2022-11-23T15:41:52.130Z"
   },
   {
    "duration": 9,
    "start_time": "2022-11-23T15:42:01.121Z"
   },
   {
    "duration": 13,
    "start_time": "2022-11-23T15:42:22.082Z"
   },
   {
    "duration": 11,
    "start_time": "2022-11-23T15:42:28.946Z"
   },
   {
    "duration": 11,
    "start_time": "2022-11-23T15:42:34.796Z"
   },
   {
    "duration": 16,
    "start_time": "2022-11-23T15:42:41.723Z"
   },
   {
    "duration": 5,
    "start_time": "2022-11-23T15:42:47.947Z"
   },
   {
    "duration": 4,
    "start_time": "2022-11-23T15:42:50.386Z"
   },
   {
    "duration": 4,
    "start_time": "2022-11-23T15:42:52.378Z"
   },
   {
    "duration": 5,
    "start_time": "2022-11-23T15:42:55.178Z"
   },
   {
    "duration": 4,
    "start_time": "2022-11-23T15:43:01.419Z"
   },
   {
    "duration": 11,
    "start_time": "2022-11-23T15:47:28.792Z"
   },
   {
    "duration": 18,
    "start_time": "2022-11-23T15:47:32.527Z"
   },
   {
    "duration": 11,
    "start_time": "2022-11-23T15:47:41.520Z"
   },
   {
    "duration": 12,
    "start_time": "2022-11-23T15:47:45.848Z"
   },
   {
    "duration": 63,
    "start_time": "2022-11-23T15:49:12.026Z"
   },
   {
    "duration": 10,
    "start_time": "2022-11-23T15:50:03.571Z"
   },
   {
    "duration": 10,
    "start_time": "2022-11-23T15:50:16.346Z"
   },
   {
    "duration": 53,
    "start_time": "2022-11-23T15:52:04.293Z"
   },
   {
    "duration": 11,
    "start_time": "2022-11-23T15:52:07.822Z"
   },
   {
    "duration": 48,
    "start_time": "2022-11-23T15:52:12.356Z"
   },
   {
    "duration": 11,
    "start_time": "2022-11-23T15:58:26.677Z"
   },
   {
    "duration": 5,
    "start_time": "2022-11-23T15:58:32.700Z"
   },
   {
    "duration": 24,
    "start_time": "2022-11-23T15:58:36.550Z"
   },
   {
    "duration": 51,
    "start_time": "2022-11-23T15:58:42.533Z"
   },
   {
    "duration": 323,
    "start_time": "2022-11-23T15:58:48.931Z"
   },
   {
    "duration": 288,
    "start_time": "2022-11-23T15:59:13.053Z"
   },
   {
    "duration": 90022,
    "start_time": "2022-11-23T16:02:26.752Z"
   },
   {
    "duration": 350,
    "start_time": "2022-11-23T16:15:46.119Z"
   },
   {
    "duration": 92324,
    "start_time": "2022-11-23T16:15:47.198Z"
   },
   {
    "duration": 10382,
    "start_time": "2022-11-23T16:17:19.524Z"
   },
   {
    "duration": 4981,
    "start_time": "2022-11-23T16:18:19.516Z"
   },
   {
    "duration": 12,
    "start_time": "2022-11-23T16:19:32.389Z"
   },
   {
    "duration": 12,
    "start_time": "2022-11-23T16:19:57.292Z"
   },
   {
    "duration": 897,
    "start_time": "2022-11-23T16:20:20.606Z"
   },
   {
    "duration": 4661,
    "start_time": "2022-11-23T16:20:29.941Z"
   },
   {
    "duration": 23,
    "start_time": "2022-11-23T16:20:51.934Z"
   },
   {
    "duration": 1120,
    "start_time": "2022-11-23T16:21:04.332Z"
   },
   {
    "duration": 13,
    "start_time": "2022-11-23T16:21:05.453Z"
   },
   {
    "duration": 13,
    "start_time": "2022-11-23T16:21:05.468Z"
   },
   {
    "duration": 4,
    "start_time": "2022-11-23T16:21:05.483Z"
   },
   {
    "duration": 16,
    "start_time": "2022-11-23T16:21:05.488Z"
   },
   {
    "duration": 4,
    "start_time": "2022-11-23T16:21:05.506Z"
   },
   {
    "duration": 30,
    "start_time": "2022-11-23T16:21:05.512Z"
   },
   {
    "duration": 34,
    "start_time": "2022-11-23T16:21:05.545Z"
   },
   {
    "duration": 19,
    "start_time": "2022-11-23T16:21:05.580Z"
   },
   {
    "duration": 112,
    "start_time": "2022-11-23T16:21:05.602Z"
   },
   {
    "duration": 0,
    "start_time": "2022-11-23T16:21:05.715Z"
   },
   {
    "duration": 0,
    "start_time": "2022-11-23T16:21:05.717Z"
   },
   {
    "duration": 0,
    "start_time": "2022-11-23T16:21:05.718Z"
   },
   {
    "duration": 0,
    "start_time": "2022-11-23T16:21:05.719Z"
   },
   {
    "duration": 7,
    "start_time": "2022-11-23T16:22:48.319Z"
   },
   {
    "duration": 11,
    "start_time": "2022-11-23T16:22:49.207Z"
   },
   {
    "duration": 300,
    "start_time": "2022-11-23T16:22:50.120Z"
   },
   {
    "duration": 325,
    "start_time": "2022-11-23T16:25:15.025Z"
   },
   {
    "duration": 90024,
    "start_time": "2022-11-23T16:25:51.900Z"
   },
   {
    "duration": 36,
    "start_time": "2022-11-23T16:28:07.395Z"
   },
   {
    "duration": 492,
    "start_time": "2022-11-23T16:28:42.206Z"
   },
   {
    "duration": 8805,
    "start_time": "2022-11-23T16:28:53.798Z"
   },
   {
    "duration": 66,
    "start_time": "2022-11-23T19:08:58.479Z"
   },
   {
    "duration": 1235,
    "start_time": "2022-11-23T19:09:04.370Z"
   },
   {
    "duration": 15,
    "start_time": "2022-11-23T19:09:05.612Z"
   },
   {
    "duration": 17,
    "start_time": "2022-11-23T19:09:05.628Z"
   },
   {
    "duration": 4,
    "start_time": "2022-11-23T19:09:05.647Z"
   },
   {
    "duration": 11,
    "start_time": "2022-11-23T19:09:05.653Z"
   },
   {
    "duration": 4,
    "start_time": "2022-11-23T19:09:05.665Z"
   },
   {
    "duration": 49,
    "start_time": "2022-11-23T19:09:05.670Z"
   },
   {
    "duration": 119,
    "start_time": "2022-11-23T19:09:05.723Z"
   },
   {
    "duration": 0,
    "start_time": "2022-11-23T19:09:05.844Z"
   },
   {
    "duration": 0,
    "start_time": "2022-11-23T19:09:05.844Z"
   },
   {
    "duration": 0,
    "start_time": "2022-11-23T19:09:05.845Z"
   },
   {
    "duration": 0,
    "start_time": "2022-11-23T19:09:05.846Z"
   },
   {
    "duration": 0,
    "start_time": "2022-11-23T19:09:05.847Z"
   },
   {
    "duration": 0,
    "start_time": "2022-11-23T19:09:05.848Z"
   },
   {
    "duration": 0,
    "start_time": "2022-11-23T19:09:05.849Z"
   },
   {
    "duration": 44,
    "start_time": "2022-11-23T19:09:15.182Z"
   },
   {
    "duration": 9,
    "start_time": "2022-11-23T19:10:21.862Z"
   },
   {
    "duration": 6,
    "start_time": "2022-11-23T19:10:24.029Z"
   },
   {
    "duration": 9,
    "start_time": "2022-11-23T19:10:24.222Z"
   },
   {
    "duration": 11,
    "start_time": "2022-11-23T19:10:25.680Z"
   },
   {
    "duration": 302,
    "start_time": "2022-11-23T19:10:32.222Z"
   },
   {
    "duration": 11,
    "start_time": "2022-11-23T19:11:13.121Z"
   },
   {
    "duration": 9,
    "start_time": "2022-11-23T19:11:13.944Z"
   },
   {
    "duration": 299,
    "start_time": "2022-11-23T19:11:15.889Z"
   },
   {
    "duration": 16,
    "start_time": "2022-11-23T19:11:22.452Z"
   },
   {
    "duration": 55,
    "start_time": "2022-11-23T19:11:22.603Z"
   },
   {
    "duration": 55,
    "start_time": "2022-11-23T19:12:09.369Z"
   },
   {
    "duration": 11,
    "start_time": "2022-11-23T19:12:38.449Z"
   },
   {
    "duration": 17,
    "start_time": "2022-11-23T19:12:41.002Z"
   },
   {
    "duration": 24,
    "start_time": "2022-11-23T19:12:41.170Z"
   },
   {
    "duration": 24,
    "start_time": "2022-11-23T19:12:53.202Z"
   },
   {
    "duration": 10,
    "start_time": "2022-11-23T19:12:56.427Z"
   },
   {
    "duration": 11,
    "start_time": "2022-11-23T19:12:57.498Z"
   },
   {
    "duration": 293,
    "start_time": "2022-11-23T19:12:58.874Z"
   },
   {
    "duration": 303,
    "start_time": "2022-11-23T19:13:41.939Z"
   },
   {
    "duration": 91275,
    "start_time": "2022-11-23T19:14:13.813Z"
   },
   {
    "duration": 29,
    "start_time": "2022-11-23T19:15:53.405Z"
   },
   {
    "duration": 6906,
    "start_time": "2022-11-23T19:16:44.501Z"
   },
   {
    "duration": 1809,
    "start_time": "2022-11-23T19:18:00.303Z"
   },
   {
    "duration": 8993,
    "start_time": "2022-11-23T19:18:52.520Z"
   },
   {
    "duration": 920,
    "start_time": "2022-11-23T19:19:18.993Z"
   },
   {
    "duration": 6066,
    "start_time": "2022-11-23T19:19:44.539Z"
   },
   {
    "duration": 6332,
    "start_time": "2022-11-23T19:20:05.873Z"
   },
   {
    "duration": 925,
    "start_time": "2022-11-23T19:21:22.683Z"
   },
   {
    "duration": 7752,
    "start_time": "2022-11-23T19:21:31.662Z"
   },
   {
    "duration": 1158,
    "start_time": "2022-11-23T19:21:57.637Z"
   },
   {
    "duration": 14,
    "start_time": "2022-11-23T19:21:58.797Z"
   },
   {
    "duration": 14,
    "start_time": "2022-11-23T19:21:58.813Z"
   },
   {
    "duration": 4,
    "start_time": "2022-11-23T19:21:58.829Z"
   },
   {
    "duration": 19,
    "start_time": "2022-11-23T19:21:58.835Z"
   },
   {
    "duration": 4,
    "start_time": "2022-11-23T19:21:58.856Z"
   },
   {
    "duration": 21,
    "start_time": "2022-11-23T19:21:58.862Z"
   },
   {
    "duration": 58,
    "start_time": "2022-11-23T19:21:58.884Z"
   },
   {
    "duration": 5,
    "start_time": "2022-11-23T19:21:58.944Z"
   },
   {
    "duration": 11,
    "start_time": "2022-11-23T19:21:58.951Z"
   },
   {
    "duration": 117,
    "start_time": "2022-11-23T19:21:58.964Z"
   },
   {
    "duration": 0,
    "start_time": "2022-11-23T19:21:59.083Z"
   },
   {
    "duration": 0,
    "start_time": "2022-11-23T19:21:59.084Z"
   },
   {
    "duration": 0,
    "start_time": "2022-11-23T19:21:59.085Z"
   },
   {
    "duration": 0,
    "start_time": "2022-11-23T19:21:59.086Z"
   },
   {
    "duration": 0,
    "start_time": "2022-11-23T19:21:59.087Z"
   },
   {
    "duration": 12,
    "start_time": "2022-11-23T19:22:16.535Z"
   },
   {
    "duration": 261,
    "start_time": "2022-11-23T19:22:25.622Z"
   },
   {
    "duration": 7541,
    "start_time": "2022-11-23T19:22:28.867Z"
   },
   {
    "duration": 9127,
    "start_time": "2022-11-23T19:24:21.879Z"
   },
   {
    "duration": 18192,
    "start_time": "2022-11-23T19:24:57.817Z"
   },
   {
    "duration": 16,
    "start_time": "2022-11-23T19:26:11.706Z"
   },
   {
    "duration": 52,
    "start_time": "2022-11-23T19:27:57.510Z"
   },
   {
    "duration": 280,
    "start_time": "2022-11-23T19:29:27.815Z"
   },
   {
    "duration": 4,
    "start_time": "2022-11-23T19:29:32.154Z"
   },
   {
    "duration": 12,
    "start_time": "2022-11-23T19:29:32.405Z"
   },
   {
    "duration": 281,
    "start_time": "2022-11-23T19:29:34.023Z"
   },
   {
    "duration": 3,
    "start_time": "2022-11-23T19:29:57.026Z"
   },
   {
    "duration": 9227,
    "start_time": "2022-11-23T19:30:45.881Z"
   },
   {
    "duration": 17,
    "start_time": "2022-11-23T19:31:24.992Z"
   },
   {
    "duration": 1784,
    "start_time": "2022-11-23T19:31:54.233Z"
   },
   {
    "duration": 1166,
    "start_time": "2022-11-23T19:32:39.791Z"
   },
   {
    "duration": 14,
    "start_time": "2022-11-23T19:32:40.958Z"
   },
   {
    "duration": 12,
    "start_time": "2022-11-23T19:32:40.973Z"
   },
   {
    "duration": 5,
    "start_time": "2022-11-23T19:32:40.987Z"
   },
   {
    "duration": 17,
    "start_time": "2022-11-23T19:32:40.994Z"
   },
   {
    "duration": 6,
    "start_time": "2022-11-23T19:32:41.013Z"
   },
   {
    "duration": 29,
    "start_time": "2022-11-23T19:32:41.021Z"
   },
   {
    "duration": 3,
    "start_time": "2022-11-23T19:32:41.051Z"
   },
   {
    "duration": 11,
    "start_time": "2022-11-23T19:32:41.055Z"
   },
   {
    "duration": 12,
    "start_time": "2022-11-23T19:32:41.068Z"
   },
   {
    "duration": 24,
    "start_time": "2022-11-23T19:32:41.081Z"
   },
   {
    "duration": 285,
    "start_time": "2022-11-23T19:32:41.107Z"
   },
   {
    "duration": 111,
    "start_time": "2022-11-23T19:32:41.394Z"
   },
   {
    "duration": 0,
    "start_time": "2022-11-23T19:32:41.506Z"
   },
   {
    "duration": 0,
    "start_time": "2022-11-23T19:32:41.507Z"
   },
   {
    "duration": 0,
    "start_time": "2022-11-23T19:32:41.508Z"
   },
   {
    "duration": 1805,
    "start_time": "2022-11-23T19:32:44.817Z"
   },
   {
    "duration": 1024,
    "start_time": "2022-11-23T19:32:48.784Z"
   },
   {
    "duration": 100,
    "start_time": "2022-11-23T19:32:57.506Z"
   },
   {
    "duration": 1048,
    "start_time": "2022-11-23T19:33:00.959Z"
   },
   {
    "duration": 263,
    "start_time": "2022-11-23T19:33:05.948Z"
   },
   {
    "duration": 909,
    "start_time": "2022-11-23T19:33:09.506Z"
   },
   {
    "duration": 26,
    "start_time": "2022-11-23T19:34:14.956Z"
   },
   {
    "duration": 24,
    "start_time": "2022-11-23T19:34:24.765Z"
   },
   {
    "duration": 28,
    "start_time": "2022-11-23T19:34:48.012Z"
   },
   {
    "duration": 29,
    "start_time": "2022-11-23T19:35:00.956Z"
   },
   {
    "duration": 320,
    "start_time": "2022-11-23T19:35:06.431Z"
   },
   {
    "duration": 27,
    "start_time": "2022-11-23T19:35:13.516Z"
   },
   {
    "duration": 41,
    "start_time": "2022-11-23T19:38:39.794Z"
   },
   {
    "duration": 37,
    "start_time": "2022-11-23T19:38:47.802Z"
   },
   {
    "duration": 30,
    "start_time": "2022-11-23T19:38:49.984Z"
   },
   {
    "duration": 52,
    "start_time": "2022-11-23T19:38:52.304Z"
   },
   {
    "duration": 10,
    "start_time": "2022-11-23T19:38:55.720Z"
   },
   {
    "duration": 30,
    "start_time": "2022-11-23T19:39:03.522Z"
   },
   {
    "duration": 19,
    "start_time": "2022-11-23T19:39:50.539Z"
   },
   {
    "duration": 21,
    "start_time": "2022-11-23T19:39:57.061Z"
   },
   {
    "duration": 22,
    "start_time": "2022-11-23T19:40:00.643Z"
   },
   {
    "duration": 26,
    "start_time": "2022-11-23T19:40:02.698Z"
   },
   {
    "duration": 35,
    "start_time": "2022-11-23T19:40:07.450Z"
   },
   {
    "duration": 28,
    "start_time": "2022-11-23T19:40:13.176Z"
   },
   {
    "duration": 23,
    "start_time": "2022-11-23T19:40:17.393Z"
   },
   {
    "duration": 25,
    "start_time": "2022-11-23T19:40:21.500Z"
   },
   {
    "duration": 21,
    "start_time": "2022-11-23T19:40:24.963Z"
   },
   {
    "duration": 29,
    "start_time": "2022-11-23T19:40:29.058Z"
   },
   {
    "duration": 27,
    "start_time": "2022-11-23T19:40:42.762Z"
   },
   {
    "duration": 17,
    "start_time": "2022-11-23T19:40:45.725Z"
   },
   {
    "duration": 33,
    "start_time": "2022-11-23T19:40:50.444Z"
   },
   {
    "duration": 20,
    "start_time": "2022-11-23T19:40:53.866Z"
   },
   {
    "duration": 30,
    "start_time": "2022-11-23T19:40:56.931Z"
   },
   {
    "duration": 27,
    "start_time": "2022-11-23T19:41:00.804Z"
   },
   {
    "duration": 29,
    "start_time": "2022-11-23T19:41:04.162Z"
   },
   {
    "duration": 34,
    "start_time": "2022-11-23T19:41:09.613Z"
   },
   {
    "duration": 31,
    "start_time": "2022-11-23T19:41:30.116Z"
   },
   {
    "duration": 34,
    "start_time": "2022-11-23T19:41:34.908Z"
   },
   {
    "duration": 31,
    "start_time": "2022-11-23T19:41:37.628Z"
   },
   {
    "duration": 31,
    "start_time": "2022-11-23T19:41:39.108Z"
   },
   {
    "duration": 30,
    "start_time": "2022-11-23T19:42:34.213Z"
   },
   {
    "duration": 37,
    "start_time": "2022-11-23T19:42:37.597Z"
   },
   {
    "duration": 28,
    "start_time": "2022-11-23T19:42:48.360Z"
   },
   {
    "duration": 28,
    "start_time": "2022-11-23T19:42:50.037Z"
   },
   {
    "duration": 40,
    "start_time": "2022-11-23T19:43:55.688Z"
   },
   {
    "duration": 33,
    "start_time": "2022-11-23T19:43:59.494Z"
   },
   {
    "duration": 27,
    "start_time": "2022-11-23T19:44:07.959Z"
   },
   {
    "duration": 967,
    "start_time": "2022-11-23T19:44:20.742Z"
   },
   {
    "duration": 39,
    "start_time": "2022-11-23T19:44:29.918Z"
   },
   {
    "duration": 1168,
    "start_time": "2022-11-24T03:00:39.941Z"
   },
   {
    "duration": 1124,
    "start_time": "2022-11-24T03:00:55.758Z"
   },
   {
    "duration": 13,
    "start_time": "2022-11-24T03:00:56.884Z"
   },
   {
    "duration": 12,
    "start_time": "2022-11-24T03:00:56.899Z"
   },
   {
    "duration": 4,
    "start_time": "2022-11-24T03:00:56.913Z"
   },
   {
    "duration": 24,
    "start_time": "2022-11-24T03:00:56.918Z"
   },
   {
    "duration": 8,
    "start_time": "2022-11-24T03:00:56.944Z"
   },
   {
    "duration": 26,
    "start_time": "2022-11-24T03:00:56.953Z"
   },
   {
    "duration": 3,
    "start_time": "2022-11-24T03:00:56.981Z"
   },
   {
    "duration": 13,
    "start_time": "2022-11-24T03:00:56.986Z"
   },
   {
    "duration": 17,
    "start_time": "2022-11-24T03:00:57.002Z"
   },
   {
    "duration": 18,
    "start_time": "2022-11-24T03:00:57.021Z"
   },
   {
    "duration": 9,
    "start_time": "2022-11-24T03:00:57.041Z"
   },
   {
    "duration": 313,
    "start_time": "2022-11-24T03:00:57.051Z"
   },
   {
    "duration": 109,
    "start_time": "2022-11-24T03:00:57.366Z"
   },
   {
    "duration": 0,
    "start_time": "2022-11-24T03:00:57.477Z"
   },
   {
    "duration": 1,
    "start_time": "2022-11-24T03:00:57.479Z"
   },
   {
    "duration": 0,
    "start_time": "2022-11-24T03:00:57.481Z"
   },
   {
    "duration": 0,
    "start_time": "2022-11-24T03:00:57.482Z"
   },
   {
    "duration": 47,
    "start_time": "2022-11-24T03:03:34.239Z"
   },
   {
    "duration": 42,
    "start_time": "2022-11-24T03:04:15.575Z"
   },
   {
    "duration": 45,
    "start_time": "2022-11-24T03:04:22.102Z"
   },
   {
    "duration": 51,
    "start_time": "2022-11-24T03:04:44.775Z"
   },
   {
    "duration": 1197,
    "start_time": "2022-11-24T03:05:12.463Z"
   },
   {
    "duration": 1181,
    "start_time": "2022-11-24T03:05:24.007Z"
   },
   {
    "duration": 1347,
    "start_time": "2022-11-24T03:05:56.448Z"
   },
   {
    "duration": 1153,
    "start_time": "2022-11-24T03:06:16.675Z"
   },
   {
    "duration": 1215,
    "start_time": "2022-11-24T03:06:26.129Z"
   },
   {
    "duration": 1208,
    "start_time": "2022-11-24T03:07:39.546Z"
   },
   {
    "duration": 371827,
    "start_time": "2022-11-24T03:09:08.468Z"
   },
   {
    "duration": 34953,
    "start_time": "2022-11-24T03:15:38.188Z"
   },
   {
    "duration": 11,
    "start_time": "2022-11-24T03:16:59.280Z"
   },
   {
    "duration": 32316,
    "start_time": "2022-11-24T03:18:15.823Z"
   },
   {
    "duration": 95,
    "start_time": "2022-11-24T03:18:48.141Z"
   },
   {
    "duration": 1318,
    "start_time": "2022-11-24T03:20:15.353Z"
   },
   {
    "duration": 1332,
    "start_time": "2022-11-24T03:20:22.529Z"
   },
   {
    "duration": 1281,
    "start_time": "2022-11-24T03:20:37.120Z"
   },
   {
    "duration": 1204,
    "start_time": "2022-11-24T03:20:40.848Z"
   },
   {
    "duration": 1217,
    "start_time": "2022-11-24T03:20:47.315Z"
   },
   {
    "duration": 1286,
    "start_time": "2022-11-24T03:21:02.618Z"
   },
   {
    "duration": 26,
    "start_time": "2022-11-24T03:26:12.642Z"
   },
   {
    "duration": 26,
    "start_time": "2022-11-24T03:26:17.545Z"
   },
   {
    "duration": 27,
    "start_time": "2022-11-24T03:26:33.225Z"
   },
   {
    "duration": 25,
    "start_time": "2022-11-24T03:26:39.641Z"
   },
   {
    "duration": 1251,
    "start_time": "2022-11-24T03:26:54.546Z"
   },
   {
    "duration": 1266,
    "start_time": "2022-11-24T03:27:03.738Z"
   },
   {
    "duration": 1269,
    "start_time": "2022-11-24T03:27:15.363Z"
   },
   {
    "duration": 28,
    "start_time": "2022-11-24T03:27:36.572Z"
   },
   {
    "duration": 23,
    "start_time": "2022-11-24T03:27:40.300Z"
   },
   {
    "duration": 26,
    "start_time": "2022-11-24T03:27:57.868Z"
   },
   {
    "duration": 1246,
    "start_time": "2022-11-24T03:28:07.676Z"
   },
   {
    "duration": 670,
    "start_time": "2022-11-24T03:29:16.566Z"
   },
   {
    "duration": 931,
    "start_time": "2022-11-24T03:29:26.310Z"
   },
   {
    "duration": 555,
    "start_time": "2022-11-24T03:29:38.181Z"
   },
   {
    "duration": 40,
    "start_time": "2022-11-24T03:32:26.842Z"
   },
   {
    "duration": 700,
    "start_time": "2022-11-24T03:32:46.834Z"
   },
   {
    "duration": 1359,
    "start_time": "2022-11-24T03:32:56.666Z"
   },
   {
    "duration": 28,
    "start_time": "2022-11-24T03:33:02.810Z"
   },
   {
    "duration": 1157,
    "start_time": "2022-11-24T03:33:22.492Z"
   },
   {
    "duration": 25,
    "start_time": "2022-11-24T03:33:23.651Z"
   },
   {
    "duration": 1317,
    "start_time": "2022-11-24T03:33:25.833Z"
   },
   {
    "duration": 606,
    "start_time": "2022-11-24T03:33:27.737Z"
   },
   {
    "duration": 1258,
    "start_time": "2022-11-24T03:34:28.293Z"
   },
   {
    "duration": 27,
    "start_time": "2022-11-24T03:36:22.247Z"
   },
   {
    "duration": 27,
    "start_time": "2022-11-24T03:37:13.639Z"
   },
   {
    "duration": 14,
    "start_time": "2022-11-24T03:38:43.705Z"
   },
   {
    "duration": 55,
    "start_time": "2022-11-24T03:39:11.898Z"
   },
   {
    "duration": 51,
    "start_time": "2022-11-24T03:39:29.782Z"
   },
   {
    "duration": 50,
    "start_time": "2022-11-24T03:39:37.307Z"
   },
   {
    "duration": 54,
    "start_time": "2022-11-24T03:39:49.762Z"
   },
   {
    "duration": 60,
    "start_time": "2022-11-24T03:39:52.619Z"
   },
   {
    "duration": 49,
    "start_time": "2022-11-24T03:40:21.115Z"
   },
   {
    "duration": 1129,
    "start_time": "2022-11-24T03:40:50.456Z"
   },
   {
    "duration": 13,
    "start_time": "2022-11-24T03:40:51.587Z"
   },
   {
    "duration": 29,
    "start_time": "2022-11-24T03:40:51.602Z"
   },
   {
    "duration": 22,
    "start_time": "2022-11-24T03:40:51.634Z"
   },
   {
    "duration": 17,
    "start_time": "2022-11-24T03:40:51.658Z"
   },
   {
    "duration": 12,
    "start_time": "2022-11-24T03:40:51.677Z"
   },
   {
    "duration": 28,
    "start_time": "2022-11-24T03:40:51.691Z"
   },
   {
    "duration": 11,
    "start_time": "2022-11-24T03:40:51.721Z"
   },
   {
    "duration": 48,
    "start_time": "2022-11-24T03:40:51.734Z"
   },
   {
    "duration": 24,
    "start_time": "2022-11-24T03:40:51.785Z"
   },
   {
    "duration": 16,
    "start_time": "2022-11-24T03:40:51.811Z"
   },
   {
    "duration": 1311,
    "start_time": "2022-11-24T03:40:51.829Z"
   },
   {
    "duration": 27,
    "start_time": "2022-11-24T03:40:53.142Z"
   },
   {
    "duration": 114,
    "start_time": "2022-11-24T03:40:53.171Z"
   },
   {
    "duration": 0,
    "start_time": "2022-11-24T03:40:53.287Z"
   },
   {
    "duration": 0,
    "start_time": "2022-11-24T03:40:53.288Z"
   },
   {
    "duration": 0,
    "start_time": "2022-11-24T03:40:53.289Z"
   },
   {
    "duration": 0,
    "start_time": "2022-11-24T03:40:53.290Z"
   },
   {
    "duration": 0,
    "start_time": "2022-11-24T03:40:53.292Z"
   },
   {
    "duration": 0,
    "start_time": "2022-11-24T03:40:53.293Z"
   },
   {
    "duration": 0,
    "start_time": "2022-11-24T03:40:53.294Z"
   },
   {
    "duration": 0,
    "start_time": "2022-11-24T03:40:53.296Z"
   },
   {
    "duration": 1437,
    "start_time": "2022-11-24T03:40:57.899Z"
   },
   {
    "duration": 512,
    "start_time": "2022-11-24T03:41:00.427Z"
   },
   {
    "duration": 25,
    "start_time": "2022-11-24T03:41:08.221Z"
   },
   {
    "duration": 50,
    "start_time": "2022-11-24T03:41:11.347Z"
   },
   {
    "duration": 50,
    "start_time": "2022-11-24T03:41:18.788Z"
   },
   {
    "duration": 47,
    "start_time": "2022-11-24T03:41:25.229Z"
   },
   {
    "duration": 48,
    "start_time": "2022-11-24T03:41:27.276Z"
   },
   {
    "duration": 46,
    "start_time": "2022-11-24T03:41:28.780Z"
   },
   {
    "duration": 39,
    "start_time": "2022-11-24T03:41:31.685Z"
   },
   {
    "duration": 44,
    "start_time": "2022-11-24T03:41:34.212Z"
   },
   {
    "duration": 18,
    "start_time": "2022-11-24T03:42:40.021Z"
   },
   {
    "duration": 508,
    "start_time": "2022-11-24T03:42:42.134Z"
   },
   {
    "duration": 168,
    "start_time": "2022-11-24T03:45:01.849Z"
   },
   {
    "duration": 441,
    "start_time": "2022-11-24T03:45:05.728Z"
   },
   {
    "duration": 12,
    "start_time": "2022-11-24T03:46:29.401Z"
   },
   {
    "duration": 493,
    "start_time": "2022-11-24T03:48:09.492Z"
   },
   {
    "duration": 508,
    "start_time": "2022-11-24T03:48:47.460Z"
   },
   {
    "duration": 486,
    "start_time": "2022-11-24T03:48:55.954Z"
   },
   {
    "duration": 485,
    "start_time": "2022-11-24T03:49:33.445Z"
   },
   {
    "duration": 467,
    "start_time": "2022-11-24T03:49:43.150Z"
   },
   {
    "duration": 468,
    "start_time": "2022-11-24T03:49:53.582Z"
   },
   {
    "duration": 453,
    "start_time": "2022-11-24T03:49:59.902Z"
   },
   {
    "duration": 525,
    "start_time": "2022-11-24T03:50:22.555Z"
   },
   {
    "duration": 1212,
    "start_time": "2022-11-25T09:16:41.595Z"
   },
   {
    "duration": 16,
    "start_time": "2022-11-25T09:16:42.809Z"
   },
   {
    "duration": 15,
    "start_time": "2022-11-25T09:16:42.827Z"
   },
   {
    "duration": 4,
    "start_time": "2022-11-25T09:16:42.844Z"
   },
   {
    "duration": 17,
    "start_time": "2022-11-25T09:16:42.849Z"
   },
   {
    "duration": 25,
    "start_time": "2022-11-25T09:16:42.868Z"
   },
   {
    "duration": 39,
    "start_time": "2022-11-25T09:16:42.895Z"
   },
   {
    "duration": 3,
    "start_time": "2022-11-25T09:16:42.936Z"
   },
   {
    "duration": 21,
    "start_time": "2022-11-25T09:16:42.941Z"
   },
   {
    "duration": 20,
    "start_time": "2022-11-25T09:16:42.964Z"
   },
   {
    "duration": 10,
    "start_time": "2022-11-25T09:16:42.986Z"
   },
   {
    "duration": 1238,
    "start_time": "2022-11-25T09:16:42.997Z"
   },
   {
    "duration": 24,
    "start_time": "2022-11-25T09:16:44.237Z"
   },
   {
    "duration": 117,
    "start_time": "2022-11-25T09:16:44.263Z"
   },
   {
    "duration": 0,
    "start_time": "2022-11-25T09:16:44.381Z"
   },
   {
    "duration": 0,
    "start_time": "2022-11-25T09:16:44.382Z"
   },
   {
    "duration": 0,
    "start_time": "2022-11-25T09:16:44.383Z"
   },
   {
    "duration": 0,
    "start_time": "2022-11-25T09:16:44.384Z"
   },
   {
    "duration": 0,
    "start_time": "2022-11-25T09:16:44.398Z"
   },
   {
    "duration": 0,
    "start_time": "2022-11-25T09:16:44.399Z"
   },
   {
    "duration": 0,
    "start_time": "2022-11-25T09:16:44.401Z"
   },
   {
    "duration": 0,
    "start_time": "2022-11-25T09:16:44.402Z"
   },
   {
    "duration": 0,
    "start_time": "2022-11-25T09:16:44.403Z"
   },
   {
    "duration": 389204,
    "start_time": "2022-11-25T09:16:53.544Z"
   },
   {
    "duration": 110849,
    "start_time": "2022-11-25T09:23:22.750Z"
   },
   {
    "duration": 1260,
    "start_time": "2022-11-25T13:15:24.903Z"
   },
   {
    "duration": 12,
    "start_time": "2022-11-25T13:15:26.165Z"
   },
   {
    "duration": 12,
    "start_time": "2022-11-25T13:15:26.178Z"
   },
   {
    "duration": 4,
    "start_time": "2022-11-25T13:15:26.192Z"
   },
   {
    "duration": 14,
    "start_time": "2022-11-25T13:15:26.199Z"
   },
   {
    "duration": 4,
    "start_time": "2022-11-25T13:15:26.215Z"
   },
   {
    "duration": 22,
    "start_time": "2022-11-25T13:15:26.221Z"
   },
   {
    "duration": 3,
    "start_time": "2022-11-25T13:15:26.244Z"
   },
   {
    "duration": 32,
    "start_time": "2022-11-25T13:15:26.248Z"
   },
   {
    "duration": 11,
    "start_time": "2022-11-25T13:15:26.282Z"
   },
   {
    "duration": 10,
    "start_time": "2022-11-25T13:15:26.294Z"
   },
   {
    "duration": 1135,
    "start_time": "2022-11-25T13:15:26.306Z"
   },
   {
    "duration": 22,
    "start_time": "2022-11-25T13:15:27.443Z"
   },
   {
    "duration": 81825,
    "start_time": "2022-11-25T13:15:27.467Z"
   },
   {
    "duration": 1277,
    "start_time": "2022-11-25T13:16:49.294Z"
   },
   {
    "duration": 23806,
    "start_time": "2022-11-25T13:16:50.573Z"
   },
   {
    "duration": 503,
    "start_time": "2022-11-25T13:17:14.381Z"
   },
   {
    "duration": 198,
    "start_time": "2022-11-25T13:17:14.886Z"
   },
   {
    "duration": 413,
    "start_time": "2022-11-25T13:17:15.086Z"
   },
   {
    "duration": 461,
    "start_time": "2022-11-25T13:17:15.500Z"
   },
   {
    "duration": 1224,
    "start_time": "2022-11-25T13:17:15.963Z"
   },
   {
    "duration": 91,
    "start_time": "2022-11-25T13:17:17.188Z"
   },
   {
    "duration": 125,
    "start_time": "2022-11-25T13:17:17.281Z"
   },
   {
    "duration": 380,
    "start_time": "2022-11-25T13:17:46.860Z"
   },
   {
    "duration": 464,
    "start_time": "2022-11-25T13:17:48.804Z"
   },
   {
    "duration": 404,
    "start_time": "2022-11-25T13:18:11.083Z"
   },
   {
    "duration": 463,
    "start_time": "2022-11-25T13:18:11.932Z"
   },
   {
    "duration": 400,
    "start_time": "2022-11-25T13:18:15.971Z"
   },
   {
    "duration": 460,
    "start_time": "2022-11-25T13:18:16.430Z"
   },
   {
    "duration": 434,
    "start_time": "2022-11-25T13:44:14.999Z"
   },
   {
    "duration": 494,
    "start_time": "2022-11-25T13:44:18.487Z"
   },
   {
    "duration": 472,
    "start_time": "2022-11-25T13:44:20.023Z"
   },
   {
    "duration": 466,
    "start_time": "2022-11-25T13:44:21.177Z"
   },
   {
    "duration": 477,
    "start_time": "2022-11-25T13:44:23.101Z"
   },
   {
    "duration": 451,
    "start_time": "2022-11-25T13:44:24.159Z"
   },
   {
    "duration": 452,
    "start_time": "2022-11-25T13:44:25.234Z"
   },
   {
    "duration": 491,
    "start_time": "2022-11-25T13:44:26.368Z"
   },
   {
    "duration": 435,
    "start_time": "2022-11-25T13:44:27.335Z"
   },
   {
    "duration": 438,
    "start_time": "2022-11-25T13:44:28.374Z"
   },
   {
    "duration": 436,
    "start_time": "2022-11-25T13:44:29.343Z"
   },
   {
    "duration": 458,
    "start_time": "2022-11-25T13:44:30.839Z"
   },
   {
    "duration": 379,
    "start_time": "2022-11-25T13:45:45.074Z"
   },
   {
    "duration": 442,
    "start_time": "2022-11-25T13:45:46.063Z"
   },
   {
    "duration": 28,
    "start_time": "2022-11-25T13:45:57.827Z"
   },
   {
    "duration": 28,
    "start_time": "2022-11-25T13:48:56.644Z"
   },
   {
    "duration": 10013,
    "start_time": "2022-11-25T13:50:07.967Z"
   },
   {
    "duration": 33,
    "start_time": "2022-11-25T13:50:29.927Z"
   },
   {
    "duration": 48,
    "start_time": "2022-11-25T13:51:46.072Z"
   },
   {
    "duration": 23560,
    "start_time": "2022-11-25T13:56:52.725Z"
   },
   {
    "duration": 22713,
    "start_time": "2022-11-25T13:57:49.710Z"
   },
   {
    "duration": 22655,
    "start_time": "2022-11-25T13:58:56.000Z"
   },
   {
    "duration": 21640,
    "start_time": "2022-11-25T13:59:28.911Z"
   },
   {
    "duration": 22056,
    "start_time": "2022-11-25T14:00:41.569Z"
   },
   {
    "duration": 22119,
    "start_time": "2022-11-25T14:01:16.915Z"
   },
   {
    "duration": 21791,
    "start_time": "2022-11-25T14:01:39.036Z"
   },
   {
    "duration": 9968,
    "start_time": "2022-11-25T14:04:29.527Z"
   },
   {
    "duration": 9823,
    "start_time": "2022-11-25T14:04:46.367Z"
   },
   {
    "duration": 8646,
    "start_time": "2022-11-25T14:05:16.238Z"
   },
   {
    "duration": 853,
    "start_time": "2022-11-25T14:05:59.048Z"
   },
   {
    "duration": 395,
    "start_time": "2022-11-25T14:06:07.193Z"
   },
   {
    "duration": 706,
    "start_time": "2022-11-25T14:06:17.784Z"
   },
   {
    "duration": 54,
    "start_time": "2022-11-25T14:06:24.024Z"
   },
   {
    "duration": 1760,
    "start_time": "2022-11-25T14:06:39.234Z"
   },
   {
    "duration": 3547,
    "start_time": "2022-11-25T14:06:56.080Z"
   },
   {
    "duration": 3594,
    "start_time": "2022-11-25T14:07:03.384Z"
   },
   {
    "duration": 1700,
    "start_time": "2022-11-25T14:07:06.980Z"
   },
   {
    "duration": 33,
    "start_time": "2022-11-25T14:10:41.807Z"
   },
   {
    "duration": 9169,
    "start_time": "2022-11-25T14:10:45.414Z"
   },
   {
    "duration": 9494,
    "start_time": "2022-11-25T14:10:54.585Z"
   },
   {
    "duration": 97,
    "start_time": "2022-11-25T14:21:06.166Z"
   },
   {
    "duration": 1129,
    "start_time": "2022-11-25T14:21:11.868Z"
   },
   {
    "duration": 13,
    "start_time": "2022-11-25T14:21:12.998Z"
   },
   {
    "duration": 33,
    "start_time": "2022-11-25T14:21:13.013Z"
   },
   {
    "duration": 8,
    "start_time": "2022-11-25T14:21:13.047Z"
   },
   {
    "duration": 35,
    "start_time": "2022-11-25T14:21:13.057Z"
   },
   {
    "duration": 19,
    "start_time": "2022-11-25T14:21:13.094Z"
   },
   {
    "duration": 24,
    "start_time": "2022-11-25T14:21:13.115Z"
   },
   {
    "duration": 8,
    "start_time": "2022-11-25T14:21:13.141Z"
   },
   {
    "duration": 17,
    "start_time": "2022-11-25T14:21:13.151Z"
   },
   {
    "duration": 17,
    "start_time": "2022-11-25T14:21:13.169Z"
   },
   {
    "duration": 1183,
    "start_time": "2022-11-25T14:21:13.188Z"
   },
   {
    "duration": 30,
    "start_time": "2022-11-25T14:21:14.372Z"
   },
   {
    "duration": 82654,
    "start_time": "2022-11-25T14:21:14.404Z"
   },
   {
    "duration": 1308,
    "start_time": "2022-11-25T14:22:37.060Z"
   },
   {
    "duration": 24017,
    "start_time": "2022-11-25T14:22:38.370Z"
   },
   {
    "duration": 497,
    "start_time": "2022-11-25T14:23:02.389Z"
   },
   {
    "duration": 204,
    "start_time": "2022-11-25T14:23:02.888Z"
   },
   {
    "duration": 5,
    "start_time": "2022-11-25T14:23:03.094Z"
   },
   {
    "duration": 426,
    "start_time": "2022-11-25T14:23:03.101Z"
   },
   {
    "duration": 508,
    "start_time": "2022-11-25T14:23:03.529Z"
   },
   {
    "duration": 22553,
    "start_time": "2022-11-25T14:23:04.039Z"
   },
   {
    "duration": 21239,
    "start_time": "2022-11-25T14:23:26.594Z"
   },
   {
    "duration": 52,
    "start_time": "2022-11-25T14:23:47.835Z"
   },
   {
    "duration": 8591,
    "start_time": "2022-11-25T14:23:47.889Z"
   },
   {
    "duration": 10596,
    "start_time": "2022-11-25T14:23:56.485Z"
   },
   {
    "duration": 204,
    "start_time": "2022-11-25T14:24:07.083Z"
   },
   {
    "duration": 1284,
    "start_time": "2022-11-25T14:24:44.833Z"
   },
   {
    "duration": 1431,
    "start_time": "2022-11-25T14:24:57.695Z"
   },
   {
    "duration": 1312,
    "start_time": "2022-11-25T14:25:06.709Z"
   },
   {
    "duration": 1287,
    "start_time": "2022-11-25T14:27:03.929Z"
   },
   {
    "duration": 34,
    "start_time": "2022-11-25T14:28:54.267Z"
   },
   {
    "duration": 29,
    "start_time": "2022-11-25T14:29:25.067Z"
   },
   {
    "duration": 2040,
    "start_time": "2022-11-25T14:30:35.451Z"
   },
   {
    "duration": 308,
    "start_time": "2022-11-25T14:33:28.102Z"
   },
   {
    "duration": 384,
    "start_time": "2022-11-25T14:33:31.719Z"
   },
   {
    "duration": 1310,
    "start_time": "2022-11-25T14:33:46.399Z"
   },
   {
    "duration": 17458,
    "start_time": "2022-11-25T14:33:55.794Z"
   },
   {
    "duration": 17783,
    "start_time": "2022-11-25T14:34:13.254Z"
   },
   {
    "duration": 6477,
    "start_time": "2022-11-25T14:34:41.512Z"
   },
   {
    "duration": 8401,
    "start_time": "2022-11-25T14:34:48.079Z"
   },
   {
    "duration": 27,
    "start_time": "2022-11-25T14:34:58.626Z"
   },
   {
    "duration": 1836,
    "start_time": "2022-11-25T14:34:59.745Z"
   },
   {
    "duration": 1166,
    "start_time": "2022-11-25T14:35:45.212Z"
   },
   {
    "duration": 22,
    "start_time": "2022-11-25T14:36:28.003Z"
   },
   {
    "duration": 95,
    "start_time": "2022-11-25T14:47:52.352Z"
   },
   {
    "duration": 3,
    "start_time": "2022-11-25T14:47:56.903Z"
   },
   {
    "duration": 7,
    "start_time": "2022-11-25T14:49:26.018Z"
   },
   {
    "duration": 1113,
    "start_time": "2022-11-25T15:06:35.588Z"
   },
   {
    "duration": 12,
    "start_time": "2022-11-25T15:06:36.703Z"
   },
   {
    "duration": 16,
    "start_time": "2022-11-25T15:06:36.717Z"
   },
   {
    "duration": 14,
    "start_time": "2022-11-25T15:06:36.735Z"
   },
   {
    "duration": 24,
    "start_time": "2022-11-25T15:06:36.750Z"
   },
   {
    "duration": 16,
    "start_time": "2022-11-25T15:06:36.776Z"
   },
   {
    "duration": 33,
    "start_time": "2022-11-25T15:06:36.793Z"
   },
   {
    "duration": 12,
    "start_time": "2022-11-25T15:06:36.828Z"
   },
   {
    "duration": 21,
    "start_time": "2022-11-25T15:06:36.841Z"
   },
   {
    "duration": 10,
    "start_time": "2022-11-25T15:06:36.864Z"
   },
   {
    "duration": 1116,
    "start_time": "2022-11-25T15:06:36.876Z"
   },
   {
    "duration": 25,
    "start_time": "2022-11-25T15:06:37.993Z"
   },
   {
    "duration": 81233,
    "start_time": "2022-11-25T15:06:38.020Z"
   },
   {
    "duration": 1410,
    "start_time": "2022-11-25T15:07:59.255Z"
   },
   {
    "duration": 20619,
    "start_time": "2022-11-25T15:08:00.667Z"
   },
   {
    "duration": 404,
    "start_time": "2022-11-25T15:08:21.289Z"
   },
   {
    "duration": 200,
    "start_time": "2022-11-25T15:08:21.697Z"
   },
   {
    "duration": 5,
    "start_time": "2022-11-25T15:08:21.899Z"
   },
   {
    "duration": 331,
    "start_time": "2022-11-25T15:08:21.906Z"
   },
   {
    "duration": 374,
    "start_time": "2022-11-25T15:08:22.239Z"
   },
   {
    "duration": 1280,
    "start_time": "2022-11-25T15:08:22.614Z"
   },
   {
    "duration": 17676,
    "start_time": "2022-11-25T15:08:23.896Z"
   },
   {
    "duration": 18458,
    "start_time": "2022-11-25T15:08:41.574Z"
   },
   {
    "duration": 60,
    "start_time": "2022-11-25T15:09:00.034Z"
   },
   {
    "duration": 7983,
    "start_time": "2022-11-25T15:09:00.096Z"
   },
   {
    "duration": 10005,
    "start_time": "2022-11-25T15:09:08.082Z"
   },
   {
    "duration": 198,
    "start_time": "2022-11-25T15:09:18.088Z"
   },
   {
    "duration": 1814,
    "start_time": "2022-11-25T15:09:18.289Z"
   },
   {
    "duration": 773,
    "start_time": "2022-11-25T15:09:20.106Z"
   },
   {
    "duration": 381,
    "start_time": "2022-11-25T15:09:46.273Z"
   },
   {
    "duration": 27,
    "start_time": "2022-11-25T15:09:53.583Z"
   },
   {
    "duration": 1463,
    "start_time": "2022-11-25T18:20:35.597Z"
   },
   {
    "duration": 103,
    "start_time": "2022-11-25T18:22:25.930Z"
   },
   {
    "duration": 1242,
    "start_time": "2022-11-25T18:22:45.904Z"
   },
   {
    "duration": 22,
    "start_time": "2022-11-25T18:22:47.148Z"
   },
   {
    "duration": 16,
    "start_time": "2022-11-25T18:22:47.172Z"
   },
   {
    "duration": 5,
    "start_time": "2022-11-25T18:22:47.191Z"
   },
   {
    "duration": 34,
    "start_time": "2022-11-25T18:22:47.198Z"
   },
   {
    "duration": 5,
    "start_time": "2022-11-25T18:22:47.234Z"
   },
   {
    "duration": 23,
    "start_time": "2022-11-25T18:22:47.241Z"
   },
   {
    "duration": 5,
    "start_time": "2022-11-25T18:22:47.266Z"
   },
   {
    "duration": 14,
    "start_time": "2022-11-25T18:22:47.273Z"
   },
   {
    "duration": 40,
    "start_time": "2022-11-25T18:22:47.290Z"
   },
   {
    "duration": 13,
    "start_time": "2022-11-25T18:22:47.332Z"
   },
   {
    "duration": 1230,
    "start_time": "2022-11-25T18:22:47.348Z"
   },
   {
    "duration": 33,
    "start_time": "2022-11-25T18:22:48.583Z"
   },
   {
    "duration": 133,
    "start_time": "2022-11-25T18:22:48.624Z"
   },
   {
    "duration": 0,
    "start_time": "2022-11-25T18:22:48.759Z"
   },
   {
    "duration": 0,
    "start_time": "2022-11-25T18:22:48.763Z"
   },
   {
    "duration": 0,
    "start_time": "2022-11-25T18:22:48.764Z"
   },
   {
    "duration": 0,
    "start_time": "2022-11-25T18:22:48.765Z"
   },
   {
    "duration": 0,
    "start_time": "2022-11-25T18:22:48.767Z"
   },
   {
    "duration": 0,
    "start_time": "2022-11-25T18:22:48.768Z"
   },
   {
    "duration": 0,
    "start_time": "2022-11-25T18:22:48.770Z"
   },
   {
    "duration": 0,
    "start_time": "2022-11-25T18:22:48.771Z"
   },
   {
    "duration": 0,
    "start_time": "2022-11-25T18:22:48.772Z"
   },
   {
    "duration": 0,
    "start_time": "2022-11-25T18:22:48.773Z"
   },
   {
    "duration": 0,
    "start_time": "2022-11-25T18:22:48.775Z"
   },
   {
    "duration": 0,
    "start_time": "2022-11-25T18:22:48.776Z"
   },
   {
    "duration": 0,
    "start_time": "2022-11-25T18:22:48.777Z"
   },
   {
    "duration": 0,
    "start_time": "2022-11-25T18:22:48.778Z"
   },
   {
    "duration": 0,
    "start_time": "2022-11-25T18:22:48.780Z"
   },
   {
    "duration": 0,
    "start_time": "2022-11-25T18:22:48.781Z"
   },
   {
    "duration": 16,
    "start_time": "2022-11-25T18:23:02.474Z"
   },
   {
    "duration": 25,
    "start_time": "2022-11-25T18:23:07.136Z"
   },
   {
    "duration": 17,
    "start_time": "2022-11-25T18:55:06.901Z"
   },
   {
    "duration": 48,
    "start_time": "2022-11-25T18:55:18.973Z"
   },
   {
    "duration": 21,
    "start_time": "2022-11-25T18:55:26.539Z"
   },
   {
    "duration": 17,
    "start_time": "2022-11-25T18:55:44.062Z"
   },
   {
    "duration": 4,
    "start_time": "2022-11-25T18:55:48.213Z"
   },
   {
    "duration": 29,
    "start_time": "2022-11-25T18:57:40.351Z"
   },
   {
    "duration": 28,
    "start_time": "2022-11-25T18:57:47.487Z"
   },
   {
    "duration": 54,
    "start_time": "2022-11-25T18:59:19.187Z"
   },
   {
    "duration": 25,
    "start_time": "2022-11-25T18:59:38.043Z"
   },
   {
    "duration": 1150,
    "start_time": "2022-11-25T18:59:45.387Z"
   },
   {
    "duration": 25,
    "start_time": "2022-11-25T18:59:48.595Z"
   },
   {
    "duration": 1330,
    "start_time": "2022-11-25T18:59:54.760Z"
   },
   {
    "duration": 286,
    "start_time": "2022-11-25T18:59:58.642Z"
   },
   {
    "duration": 35,
    "start_time": "2022-11-25T19:00:06.809Z"
   },
   {
    "duration": 10,
    "start_time": "2022-11-25T19:00:17.466Z"
   },
   {
    "duration": 5,
    "start_time": "2022-11-25T19:00:20.066Z"
   },
   {
    "duration": 321,
    "start_time": "2022-11-25T19:00:20.337Z"
   },
   {
    "duration": 375,
    "start_time": "2022-11-25T19:00:26.338Z"
   },
   {
    "duration": 1345,
    "start_time": "2022-11-25T19:00:33.891Z"
   },
   {
    "duration": 18456,
    "start_time": "2022-11-25T19:00:37.177Z"
   },
   {
    "duration": 18840,
    "start_time": "2022-11-25T19:00:55.636Z"
   },
   {
    "duration": 67,
    "start_time": "2022-11-25T19:01:25.667Z"
   },
   {
    "duration": 6375,
    "start_time": "2022-11-25T19:01:27.156Z"
   },
   {
    "duration": 8399,
    "start_time": "2022-11-25T19:01:33.534Z"
   },
   {
    "duration": 42,
    "start_time": "2022-11-25T19:01:46.660Z"
   },
   {
    "duration": 1814,
    "start_time": "2022-11-25T19:01:54.563Z"
   },
   {
    "duration": 214,
    "start_time": "2022-11-25T19:01:57.907Z"
   },
   {
    "duration": 1324,
    "start_time": "2022-11-25T19:04:38.550Z"
   },
   {
    "duration": 30,
    "start_time": "2022-11-25T19:04:55.532Z"
   },
   {
    "duration": 1666,
    "start_time": "2022-11-25T19:04:57.266Z"
   },
   {
    "duration": 190,
    "start_time": "2022-11-25T19:04:59.639Z"
   },
   {
    "duration": 1155,
    "start_time": "2022-11-25T19:07:49.772Z"
   },
   {
    "duration": 16,
    "start_time": "2022-11-25T19:07:50.929Z"
   },
   {
    "duration": 17,
    "start_time": "2022-11-25T19:07:50.947Z"
   },
   {
    "duration": 6,
    "start_time": "2022-11-25T19:07:50.967Z"
   },
   {
    "duration": 21,
    "start_time": "2022-11-25T19:07:50.975Z"
   },
   {
    "duration": 26,
    "start_time": "2022-11-25T19:07:50.998Z"
   },
   {
    "duration": 24,
    "start_time": "2022-11-25T19:07:51.025Z"
   },
   {
    "duration": 7,
    "start_time": "2022-11-25T19:07:51.051Z"
   },
   {
    "duration": 14,
    "start_time": "2022-11-25T19:07:51.060Z"
   },
   {
    "duration": 14,
    "start_time": "2022-11-25T19:07:51.076Z"
   },
   {
    "duration": 67,
    "start_time": "2022-11-25T19:07:51.092Z"
   },
   {
    "duration": 1233,
    "start_time": "2022-11-25T19:07:51.162Z"
   },
   {
    "duration": 38,
    "start_time": "2022-11-25T19:07:52.397Z"
   },
   {
    "duration": 106,
    "start_time": "2022-11-25T19:07:52.437Z"
   },
   {
    "duration": 0,
    "start_time": "2022-11-25T19:07:52.545Z"
   },
   {
    "duration": 0,
    "start_time": "2022-11-25T19:07:52.546Z"
   },
   {
    "duration": 0,
    "start_time": "2022-11-25T19:07:52.548Z"
   },
   {
    "duration": 0,
    "start_time": "2022-11-25T19:07:52.549Z"
   },
   {
    "duration": 0,
    "start_time": "2022-11-25T19:07:52.551Z"
   },
   {
    "duration": 0,
    "start_time": "2022-11-25T19:07:52.552Z"
   },
   {
    "duration": 0,
    "start_time": "2022-11-25T19:07:52.554Z"
   },
   {
    "duration": 0,
    "start_time": "2022-11-25T19:07:52.556Z"
   },
   {
    "duration": 0,
    "start_time": "2022-11-25T19:07:52.557Z"
   },
   {
    "duration": 0,
    "start_time": "2022-11-25T19:07:52.559Z"
   },
   {
    "duration": 0,
    "start_time": "2022-11-25T19:07:52.560Z"
   },
   {
    "duration": 0,
    "start_time": "2022-11-25T19:07:52.562Z"
   },
   {
    "duration": 0,
    "start_time": "2022-11-25T19:07:52.563Z"
   },
   {
    "duration": 0,
    "start_time": "2022-11-25T19:07:52.565Z"
   },
   {
    "duration": 0,
    "start_time": "2022-11-25T19:07:52.566Z"
   },
   {
    "duration": 0,
    "start_time": "2022-11-25T19:07:52.568Z"
   },
   {
    "duration": 1357,
    "start_time": "2022-11-25T19:08:03.172Z"
   },
   {
    "duration": 53,
    "start_time": "2022-11-25T19:08:05.080Z"
   },
   {
    "duration": 35,
    "start_time": "2022-11-25T19:08:08.208Z"
   },
   {
    "duration": 5,
    "start_time": "2022-11-25T19:08:09.529Z"
   },
   {
    "duration": 362,
    "start_time": "2022-11-25T19:08:09.969Z"
   },
   {
    "duration": 389,
    "start_time": "2022-11-25T19:08:11.249Z"
   },
   {
    "duration": 1301,
    "start_time": "2022-11-25T19:08:14.970Z"
   },
   {
    "duration": 17328,
    "start_time": "2022-11-25T19:08:16.273Z"
   },
   {
    "duration": 17998,
    "start_time": "2022-11-25T19:08:33.603Z"
   },
   {
    "duration": 68,
    "start_time": "2022-11-25T19:08:56.155Z"
   },
   {
    "duration": 2960,
    "start_time": "2022-11-25T19:08:57.080Z"
   },
   {
    "duration": 5081,
    "start_time": "2022-11-25T19:09:00.042Z"
   },
   {
    "duration": 31,
    "start_time": "2022-11-25T19:09:08.802Z"
   },
   {
    "duration": 1674,
    "start_time": "2022-11-25T19:09:10.914Z"
   },
   {
    "duration": 278,
    "start_time": "2022-11-25T19:09:14.744Z"
   },
   {
    "duration": 32,
    "start_time": "2022-11-25T19:09:54.223Z"
   },
   {
    "duration": 427,
    "start_time": "2022-11-25T19:12:06.334Z"
   },
   {
    "duration": 9,
    "start_time": "2022-11-25T19:13:10.312Z"
   },
   {
    "duration": 182,
    "start_time": "2022-11-25T19:13:14.650Z"
   },
   {
    "duration": 98,
    "start_time": "2022-11-25T19:13:46.256Z"
   },
   {
    "duration": 170,
    "start_time": "2022-11-25T19:14:07.192Z"
   },
   {
    "duration": 120,
    "start_time": "2022-11-25T19:14:33.362Z"
   },
   {
    "duration": 71,
    "start_time": "2022-11-25T19:14:49.483Z"
   },
   {
    "duration": 104,
    "start_time": "2022-11-25T19:14:51.856Z"
   },
   {
    "duration": 118,
    "start_time": "2022-11-25T19:15:02.881Z"
   },
   {
    "duration": 138,
    "start_time": "2022-11-25T19:15:09.826Z"
   },
   {
    "duration": 128,
    "start_time": "2022-11-25T19:15:14.715Z"
   },
   {
    "duration": 108,
    "start_time": "2022-11-25T19:15:31.685Z"
   },
   {
    "duration": 116,
    "start_time": "2022-11-25T19:15:37.314Z"
   },
   {
    "duration": 69,
    "start_time": "2022-11-25T19:15:43.964Z"
   },
   {
    "duration": 150,
    "start_time": "2022-11-25T19:15:46.553Z"
   },
   {
    "duration": 84,
    "start_time": "2022-11-25T19:16:32.748Z"
   },
   {
    "duration": 116,
    "start_time": "2022-11-25T19:16:36.625Z"
   },
   {
    "duration": 120,
    "start_time": "2022-11-25T19:16:44.660Z"
   },
   {
    "duration": 135,
    "start_time": "2022-11-25T19:17:59.480Z"
   },
   {
    "duration": 224,
    "start_time": "2022-11-25T19:18:09.223Z"
   },
   {
    "duration": 69,
    "start_time": "2022-11-25T19:18:44.277Z"
   },
   {
    "duration": 119,
    "start_time": "2022-11-25T19:18:47.105Z"
   },
   {
    "duration": 191,
    "start_time": "2022-11-25T19:19:53.031Z"
   },
   {
    "duration": 148,
    "start_time": "2022-11-25T19:20:05.001Z"
   },
   {
    "duration": 73,
    "start_time": "2022-11-25T19:20:19.144Z"
   },
   {
    "duration": 151,
    "start_time": "2022-11-25T19:20:21.342Z"
   },
   {
    "duration": 137,
    "start_time": "2022-11-25T19:20:26.023Z"
   },
   {
    "duration": 128,
    "start_time": "2022-11-25T19:20:32.567Z"
   },
   {
    "duration": 156,
    "start_time": "2022-11-25T19:20:35.224Z"
   },
   {
    "duration": 125,
    "start_time": "2022-11-25T19:20:46.457Z"
   },
   {
    "duration": 93,
    "start_time": "2022-11-25T19:20:51.082Z"
   },
   {
    "duration": 167,
    "start_time": "2022-11-25T19:20:53.057Z"
   },
   {
    "duration": 164,
    "start_time": "2022-11-25T19:20:58.460Z"
   },
   {
    "duration": 237,
    "start_time": "2022-11-25T19:21:01.122Z"
   },
   {
    "duration": 191,
    "start_time": "2022-11-25T19:21:14.241Z"
   },
   {
    "duration": 157,
    "start_time": "2022-11-25T19:21:34.545Z"
   },
   {
    "duration": 149,
    "start_time": "2022-11-25T19:21:51.099Z"
   },
   {
    "duration": 41,
    "start_time": "2022-11-25T19:25:40.784Z"
   },
   {
    "duration": 9,
    "start_time": "2022-11-25T19:26:47.343Z"
   },
   {
    "duration": 9,
    "start_time": "2022-11-25T19:27:39.801Z"
   },
   {
    "duration": 10,
    "start_time": "2022-11-25T19:29:03.387Z"
   },
   {
    "duration": 4,
    "start_time": "2022-11-25T19:29:23.081Z"
   },
   {
    "duration": 10,
    "start_time": "2022-11-25T19:29:25.359Z"
   },
   {
    "duration": 11,
    "start_time": "2022-11-25T19:29:45.692Z"
   },
   {
    "duration": 45,
    "start_time": "2022-11-25T19:30:45.620Z"
   },
   {
    "duration": 214,
    "start_time": "2022-11-25T19:31:00.908Z"
   },
   {
    "duration": 204,
    "start_time": "2022-11-25T19:31:11.373Z"
   },
   {
    "duration": 206,
    "start_time": "2022-11-25T19:31:14.317Z"
   },
   {
    "duration": 193,
    "start_time": "2022-11-25T19:31:59.094Z"
   },
   {
    "duration": 181,
    "start_time": "2022-11-25T19:32:24.526Z"
   },
   {
    "duration": 259,
    "start_time": "2022-11-25T19:32:48.782Z"
   },
   {
    "duration": 178,
    "start_time": "2022-11-25T19:32:55.246Z"
   },
   {
    "duration": 598,
    "start_time": "2022-11-25T19:33:45.593Z"
   },
   {
    "duration": 601,
    "start_time": "2022-11-25T19:34:12.536Z"
   },
   {
    "duration": 181,
    "start_time": "2022-11-25T19:34:17.312Z"
   },
   {
    "duration": 1124,
    "start_time": "2022-11-25T19:34:28.560Z"
   },
   {
    "duration": 13,
    "start_time": "2022-11-25T19:34:29.687Z"
   },
   {
    "duration": 12,
    "start_time": "2022-11-25T19:34:29.701Z"
   },
   {
    "duration": 5,
    "start_time": "2022-11-25T19:34:29.715Z"
   },
   {
    "duration": 14,
    "start_time": "2022-11-25T19:34:29.721Z"
   },
   {
    "duration": 4,
    "start_time": "2022-11-25T19:34:29.737Z"
   },
   {
    "duration": 23,
    "start_time": "2022-11-25T19:34:29.743Z"
   },
   {
    "duration": 5,
    "start_time": "2022-11-25T19:34:29.767Z"
   },
   {
    "duration": 17,
    "start_time": "2022-11-25T19:34:29.773Z"
   },
   {
    "duration": 32,
    "start_time": "2022-11-25T19:34:29.794Z"
   },
   {
    "duration": 27,
    "start_time": "2022-11-25T19:34:29.828Z"
   },
   {
    "duration": 1191,
    "start_time": "2022-11-25T19:34:29.857Z"
   },
   {
    "duration": 24,
    "start_time": "2022-11-25T19:34:31.049Z"
   },
   {
    "duration": 80197,
    "start_time": "2022-11-25T19:34:31.075Z"
   },
   {
    "duration": 1255,
    "start_time": "2022-11-25T19:35:51.274Z"
   },
   {
    "duration": 21202,
    "start_time": "2022-11-25T19:35:52.531Z"
   },
   {
    "duration": 211,
    "start_time": "2022-11-25T19:36:13.826Z"
   },
   {
    "duration": 502,
    "start_time": "2022-11-25T19:36:14.124Z"
   },
   {
    "duration": 29,
    "start_time": "2022-11-25T19:36:14.627Z"
   },
   {
    "duration": 6,
    "start_time": "2022-11-25T19:36:14.658Z"
   },
   {
    "duration": 338,
    "start_time": "2022-11-25T19:36:14.666Z"
   },
   {
    "duration": 381,
    "start_time": "2022-11-25T19:36:15.006Z"
   },
   {
    "duration": 1286,
    "start_time": "2022-11-25T19:36:15.389Z"
   },
   {
    "duration": 16634,
    "start_time": "2022-11-25T19:36:16.677Z"
   },
   {
    "duration": 17134,
    "start_time": "2022-11-25T19:36:33.312Z"
   },
   {
    "duration": 81,
    "start_time": "2022-11-25T19:36:50.447Z"
   },
   {
    "duration": 3092,
    "start_time": "2022-11-25T19:36:50.530Z"
   },
   {
    "duration": 5004,
    "start_time": "2022-11-25T19:36:53.626Z"
   },
   {
    "duration": 210,
    "start_time": "2022-11-25T19:36:58.632Z"
   },
   {
    "duration": 1803,
    "start_time": "2022-11-25T19:36:58.843Z"
   },
   {
    "duration": 375,
    "start_time": "2022-11-25T19:37:00.648Z"
   },
   {
    "duration": 308,
    "start_time": "2022-11-25T19:37:01.025Z"
   },
   {
    "duration": 1181,
    "start_time": "2022-12-26T13:27:53.869Z"
   },
   {
    "duration": 14,
    "start_time": "2022-12-26T13:27:55.052Z"
   },
   {
    "duration": 25,
    "start_time": "2022-12-26T13:27:55.067Z"
   },
   {
    "duration": 12,
    "start_time": "2022-12-26T13:27:55.094Z"
   },
   {
    "duration": 32,
    "start_time": "2022-12-26T13:27:55.107Z"
   },
   {
    "duration": 13,
    "start_time": "2022-12-26T13:27:55.140Z"
   },
   {
    "duration": 35,
    "start_time": "2022-12-26T13:27:55.155Z"
   },
   {
    "duration": 16,
    "start_time": "2022-12-26T13:27:55.191Z"
   },
   {
    "duration": 19,
    "start_time": "2022-12-26T13:27:55.208Z"
   },
   {
    "duration": 13,
    "start_time": "2022-12-26T13:27:55.229Z"
   },
   {
    "duration": 34,
    "start_time": "2022-12-26T13:27:55.243Z"
   },
   {
    "duration": 1130,
    "start_time": "2022-12-26T13:27:55.278Z"
   },
   {
    "duration": 24,
    "start_time": "2022-12-26T13:27:56.409Z"
   },
   {
    "duration": 62212,
    "start_time": "2022-12-26T13:27:56.434Z"
   },
   {
    "duration": 0,
    "start_time": "2022-12-26T13:28:58.648Z"
   },
   {
    "duration": 0,
    "start_time": "2022-12-26T13:28:58.649Z"
   },
   {
    "duration": 0,
    "start_time": "2022-12-26T13:28:58.652Z"
   },
   {
    "duration": 0,
    "start_time": "2022-12-26T13:28:58.653Z"
   },
   {
    "duration": 0,
    "start_time": "2022-12-26T13:28:58.654Z"
   },
   {
    "duration": 0,
    "start_time": "2022-12-26T13:28:58.655Z"
   },
   {
    "duration": 0,
    "start_time": "2022-12-26T13:28:58.656Z"
   },
   {
    "duration": 0,
    "start_time": "2022-12-26T13:28:58.657Z"
   },
   {
    "duration": 0,
    "start_time": "2022-12-26T13:28:58.658Z"
   },
   {
    "duration": 0,
    "start_time": "2022-12-26T13:28:58.658Z"
   },
   {
    "duration": 0,
    "start_time": "2022-12-26T13:28:58.660Z"
   },
   {
    "duration": 0,
    "start_time": "2022-12-26T13:28:58.661Z"
   },
   {
    "duration": 0,
    "start_time": "2022-12-26T13:28:58.662Z"
   },
   {
    "duration": 0,
    "start_time": "2022-12-26T13:28:58.727Z"
   },
   {
    "duration": 0,
    "start_time": "2022-12-26T13:28:58.728Z"
   },
   {
    "duration": 0,
    "start_time": "2022-12-26T13:28:58.729Z"
   },
   {
    "duration": 0,
    "start_time": "2022-12-26T13:28:58.730Z"
   },
   {
    "duration": 0,
    "start_time": "2022-12-26T13:28:58.731Z"
   },
   {
    "duration": 2557,
    "start_time": "2022-12-26T13:29:02.479Z"
   },
   {
    "duration": 210,
    "start_time": "2022-12-26T13:29:06.819Z"
   },
   {
    "duration": 317,
    "start_time": "2022-12-26T13:29:26.803Z"
   },
   {
    "duration": 23,
    "start_time": "2022-12-26T13:29:27.913Z"
   },
   {
    "duration": 62,
    "start_time": "2022-12-26T13:29:29.203Z"
   },
   {
    "duration": 301,
    "start_time": "2022-12-26T13:29:30.489Z"
   },
   {
    "duration": 6,
    "start_time": "2022-12-26T13:29:37.419Z"
   },
   {
    "duration": 295,
    "start_time": "2022-12-26T13:29:42.970Z"
   }
  ],
  "kernelspec": {
   "display_name": "Python 3",
   "language": "python",
   "name": "python3"
  },
  "language_info": {
   "codemirror_mode": {
    "name": "ipython",
    "version": 3
   },
   "file_extension": ".py",
   "mimetype": "text/x-python",
   "name": "python",
   "nbconvert_exporter": "python",
   "pygments_lexer": "ipython3",
   "version": "3.8.8"
  },
  "toc": {
   "base_numbering": 1,
   "nav_menu": {},
   "number_sections": true,
   "sideBar": true,
   "skip_h1_title": true,
   "title_cell": "Содержание",
   "title_sidebar": "Contents",
   "toc_cell": true,
   "toc_position": {
    "height": "calc(100% - 180px)",
    "left": "10px",
    "top": "150px",
    "width": "165px"
   },
   "toc_section_display": true,
   "toc_window_display": true
  }
 },
 "nbformat": 4,
 "nbformat_minor": 2
}
